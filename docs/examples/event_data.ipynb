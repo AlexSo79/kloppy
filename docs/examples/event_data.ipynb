{
 "cells": [
  {
   "cell_type": "markdown",
   "metadata": {},
   "source": [
    "# Event data\n",
    "\n",
    "One of the main benefits of working with kloppy is that it loads metadata with the event data. This metadata includes teams (name, ground and provider id) and players (name, jersey number, optional position and provider id). Using this metadata, it becomes very easy to create an analysis that is usable by humans, because it includes names instead of only numbers.\n",
    "\n",
    "This section shows how metadata is organized and some use-cases."
   ]
  },
  {
   "cell_type": "markdown",
   "metadata": {},
   "source": [
    "## Loading statsbomb data\n",
    "\n",
    "The datasets module of kloppy makes it trivial to load statsbomb data. Keep in mind that by using the data you accept the license of the open-data project.\n"
   ]
  },
  {
   "cell_type": "code",
   "execution_count": 28,
   "metadata": {
    "scrolled": true
   },
   "outputs": [],
   "source": [
    "from kloppy import statsbomb\n",
    "\n",
    "dataset = statsbomb.load_open_data(event_types=[\"pass\", \"shot\"])"
   ]
  },
  {
   "cell_type": "markdown",
   "metadata": {},
   "source": [
    "## Exploring metadata\n",
    "\n",
    "kloppy always loads the metadata for you and makes it available at the `metadata` property. "
   ]
  },
  {
   "cell_type": "code",
   "execution_count": 29,
   "metadata": {},
   "outputs": [],
   "source": [
    "metadata = dataset.metadata\n",
    "home_team, away_team = metadata.teams"
   ]
  },
  {
   "cell_type": "markdown",
   "metadata": {},
   "source": [
    "After loading the data, the metadata can be used to iterate over teams and players. By default `metadata.teams` contain `[HomeTeam, AwayTeam]`. `Team` and `Player` entities have the `__str__` magic method implemented to help you cast it to a string. When you want to "
   ]
  },
  {
   "cell_type": "code",
   "execution_count": 30,
   "metadata": {},
   "outputs": [
    {
     "name": "stdout",
     "output_type": "stream",
     "text": [
      "home - Barcelona\n",
      "away - Deportivo Alavés\n"
     ]
    }
   ],
   "source": [
    "print(f\"{home_team.ground} - {home_team}\")\n",
    "print(f\"{away_team.ground} - {away_team}\")"
   ]
  },
  {
   "cell_type": "code",
   "execution_count": 31,
   "metadata": {},
   "outputs": [
    {
     "data": {
      "text/plain": [
       "['Malcom Filipe Silva de Oliveira (14)',\n",
       " 'Philippe Coutinho Correia (7)',\n",
       " 'Sergio Busquets i Burgos (5)',\n",
       " 'Jordi Alba Ramos (18)',\n",
       " 'Gerard Piqué Bernabéu (3)',\n",
       " 'Luis Alberto Suárez Díaz (9)',\n",
       " 'Ivan Rakitić (4)',\n",
       " 'Ousmane Dembélé (11)',\n",
       " 'Samuel Yves Umtiti (23)',\n",
       " 'Lionel Andrés Messi Cuccittini (10)',\n",
       " 'Nélson Cabral Semedo (2)',\n",
       " 'Sergi Roberto Carnicer (20)',\n",
       " 'Clément Lenglet (15)',\n",
       " 'Rafael Alcântara do Nascimento (12)',\n",
       " 'Arturo Erasmo Vidal Pardo (22)',\n",
       " 'Jasper Cillessen (13)',\n",
       " 'Arthur Henrique Ramos de Oliveira Melo (8)',\n",
       " 'Marc-André ter Stegen (1)']"
      ]
     },
     "execution_count": 31,
     "metadata": {},
     "output_type": "execute_result"
    }
   ],
   "source": [
    "[f\"{player} ({player.jersey_no})\" for player in home_team.players]\n"
   ]
  },
  {
   "cell_type": "code",
   "execution_count": 32,
   "metadata": {},
   "outputs": [
    {
     "data": {
      "text/plain": [
       "'statsbomb team id: 217 - 206'"
      ]
     },
     "execution_count": 32,
     "metadata": {},
     "output_type": "execute_result"
    }
   ],
   "source": [
    "# get provider id for team\n",
    "f\"statsbomb team id: {home_team.team_id} - {away_team.team_id}\""
   ]
  },
  {
   "cell_type": "code",
   "execution_count": 33,
   "metadata": {},
   "outputs": [
    {
     "data": {
      "text/plain": [
       "['Malcom Filipe Silva de Oliveira id=3109',\n",
       " 'Philippe Coutinho Correia id=3501',\n",
       " 'Sergio Busquets i Burgos id=5203',\n",
       " 'Jordi Alba Ramos id=5211',\n",
       " 'Gerard Piqué Bernabéu id=5213',\n",
       " 'Luis Alberto Suárez Díaz id=5246',\n",
       " 'Ivan Rakitić id=5470',\n",
       " 'Ousmane Dembélé id=5477',\n",
       " 'Samuel Yves Umtiti id=5492',\n",
       " 'Lionel Andrés Messi Cuccittini id=5503',\n",
       " 'Nélson Cabral Semedo id=6374',\n",
       " 'Sergi Roberto Carnicer id=6379',\n",
       " 'Clément Lenglet id=6826',\n",
       " 'Rafael Alcântara do Nascimento id=6998',\n",
       " 'Arturo Erasmo Vidal Pardo id=8206',\n",
       " 'Jasper Cillessen id=8652',\n",
       " 'Arthur Henrique Ramos de Oliveira Melo id=11392',\n",
       " 'Marc-André ter Stegen id=20055']"
      ]
     },
     "execution_count": 33,
     "metadata": {},
     "output_type": "execute_result"
    }
   ],
   "source": [
    "# same for the players\n",
    "[f\"{player} id={player.player_id}\" for player in metadata.teams[0].players]\n"
   ]
  },
  {
   "cell_type": "code",
   "execution_count": 34,
   "metadata": {},
   "outputs": [
    {
     "name": "stdout",
     "output_type": "stream",
     "text": [
      "Jonathan Rodríguez Menéndez\n",
      "Deportivo Alavés\n",
      "Teams are comparable? True\n"
     ]
    }
   ],
   "source": [
    "# get player from first event\n",
    "player = dataset.events[0].player\n",
    "print(player)\n",
    "print(player.team)\n",
    "print(f\"Teams are comparable? {player.team == away_team}\")"
   ]
  },
  {
   "cell_type": "markdown",
   "metadata": {},
   "source": [
    "The `Team` and `Player` entities also contain the magic methods to use those keys in dictionaries or use them in sets. This makes it easy to do some calculations, and show the results without mapping the player_id to a name."
   ]
  },
  {
   "cell_type": "code",
   "execution_count": 35,
   "metadata": {},
   "outputs": [
    {
     "name": "stdout",
     "output_type": "stream",
     "text": [
      "Jonathan Rodríguez Menéndez has 14 passes\n",
      "Guillermo Alfonso Maripán Loaysa has 18 passes\n",
      "Sergio Busquets i Burgos has 79 passes\n",
      "Ivan Rakitić has 138 passes\n",
      "Ousmane Dembélé has 65 passes\n",
      "Jordi Alba Ramos has 121 passes\n",
      "Víctor Laguardia Cisneros has 11 passes\n",
      "Marc-André ter Stegen has 23 passes\n",
      "Gerard Piqué Bernabéu has 79 passes\n",
      "Nélson Cabral Semedo has 31 passes\n",
      "Sergi Roberto Carnicer has 85 passes\n",
      "Samuel Yves Umtiti has 63 passes\n",
      "Lionel Andrés Messi Cuccittini has 92 passes\n",
      "Rubén Duarte Sánchez has 25 passes\n",
      "Ibai Gómez Pérez has 35 passes\n",
      "Mubarak Wakaso has 23 passes\n",
      "Manuel Alejandro García Sánchez has 23 passes\n",
      "Rubén Sobrino Pozuelo has 17 passes\n",
      "Luis Alberto Suárez Díaz has 38 passes\n",
      "Fernando Pacheco Flores has 16 passes\n",
      "Martín Aguirregabiria Padilla has 20 passes\n",
      "Daniel Alejandro Torres Rojas has 16 passes\n",
      "Philippe Coutinho Correia has 51 passes\n",
      "Jorge Franco Alviz has 11 passes\n",
      "Adrián Marín Gómez has 6 passes\n",
      "Arthur Henrique Ramos de Oliveira Melo has 18 passes\n",
      "Borja González Tomás has 7 passes\n",
      "Arturo Erasmo Vidal Pardo has 7 passes\n"
     ]
    }
   ],
   "source": [
    "from collections import defaultdict\n",
    "\n",
    "passes_per_player = defaultdict(list)\n",
    "for event in dataset.events:\n",
    "    if event.event_name == \"pass\":\n",
    "        passes_per_player[event.player].append(event)\n",
    "        \n",
    "for player, passes in passes_per_player.items():\n",
    "    print(f\"{player} has {len(passes)} passes\")"
   ]
  },
  {
   "cell_type": "markdown",
   "metadata": {},
   "source": [
    "Now let's filter on home_team."
   ]
  },
  {
   "cell_type": "code",
   "execution_count": 36,
   "metadata": {},
   "outputs": [
    {
     "name": "stdout",
     "output_type": "stream",
     "text": [
      "Sergio Busquets i Burgos has 79 passes\n",
      "Ivan Rakitić has 138 passes\n",
      "Ousmane Dembélé has 65 passes\n",
      "Jordi Alba Ramos has 121 passes\n",
      "Marc-André ter Stegen has 23 passes\n",
      "Gerard Piqué Bernabéu has 79 passes\n",
      "Nélson Cabral Semedo has 31 passes\n",
      "Sergi Roberto Carnicer has 85 passes\n",
      "Samuel Yves Umtiti has 63 passes\n",
      "Lionel Andrés Messi Cuccittini has 92 passes\n",
      "Luis Alberto Suárez Díaz has 38 passes\n",
      "Philippe Coutinho Correia has 51 passes\n",
      "Arthur Henrique Ramos de Oliveira Melo has 18 passes\n",
      "Arturo Erasmo Vidal Pardo has 7 passes\n"
     ]
    }
   ],
   "source": [
    "for player, passes in passes_per_player.items():\n",
    "    if player.team == home_team:\n",
    "        print(f\"{player} has {len(passes)} passes\")"
   ]
  },
  {
   "cell_type": "markdown",
   "metadata": {},
   "source": [
    "## Use metadata when transforming to pandas dataframe\n",
    "\n",
    "The metadata can also be used when transforming a dataset to a pandas dataframe. The `additional_columns` argument should be passed to `to_pandas`. "
   ]
  },
  {
   "cell_type": "code",
   "execution_count": 37,
   "metadata": {},
   "outputs": [
    {
     "data": {
      "text/html": [
       "<div><div id=215c8bb1-4d71-48a9-b3e4-a9769c87f596 style=\"display:none; background-color:#9D6CFF; color:white; width:200px; height:30px; padding-left:5px; border-radius:4px; flex-direction:row; justify-content:space-around; align-items:center;\" onmouseover=\"this.style.backgroundColor='#BA9BF8'\" onmouseout=\"this.style.backgroundColor='#9D6CFF'\" onclick=\"window.commands?.execute('create-mitosheet-from-dataframe-output');\">See Full Dataframe in Mito</div> <script> if (window.commands?.hasCommand('create-mitosheet-from-dataframe-output')) document.getElementById('215c8bb1-4d71-48a9-b3e4-a9769c87f596').style.display = 'flex' </script> <table border=\"1\" class=\"dataframe\">\n",
       "  <thead>\n",
       "    <tr style=\"text-align: right;\">\n",
       "      <th></th>\n",
       "      <th>event_id</th>\n",
       "      <th>event_type</th>\n",
       "      <th>result</th>\n",
       "      <th>timestamp</th>\n",
       "      <th>player_id</th>\n",
       "      <th>player_name</th>\n",
       "      <th>team_name</th>\n",
       "    </tr>\n",
       "  </thead>\n",
       "  <tbody>\n",
       "    <tr>\n",
       "      <th>0</th>\n",
       "      <td>34208ade-2af4-45c3-970e-655937cad938</td>\n",
       "      <td>PASS</td>\n",
       "      <td>COMPLETE</td>\n",
       "      <td>0.098</td>\n",
       "      <td>6581</td>\n",
       "      <td>Jonathan Rodríguez Menéndez</td>\n",
       "      <td>Deportivo Alavés</td>\n",
       "    </tr>\n",
       "    <tr>\n",
       "      <th>1</th>\n",
       "      <td>d1cccb73-c7ef-4b02-8267-ebd7f149904b</td>\n",
       "      <td>PASS</td>\n",
       "      <td>INCOMPLETE</td>\n",
       "      <td>3.497</td>\n",
       "      <td>6855</td>\n",
       "      <td>Guillermo Alfonso Maripán Loaysa</td>\n",
       "      <td>Deportivo Alavés</td>\n",
       "    </tr>\n",
       "    <tr>\n",
       "      <th>2</th>\n",
       "      <td>f1cc47d6-4b19-45a6-beb9-33d67fc83f4b</td>\n",
       "      <td>PASS</td>\n",
       "      <td>COMPLETE</td>\n",
       "      <td>6.785</td>\n",
       "      <td>5203</td>\n",
       "      <td>Sergio Busquets i Burgos</td>\n",
       "      <td>Barcelona</td>\n",
       "    </tr>\n",
       "    <tr>\n",
       "      <th>3</th>\n",
       "      <td>f774571f-4b65-43a0-9bfc-6384948d1b82</td>\n",
       "      <td>PASS</td>\n",
       "      <td>COMPLETE</td>\n",
       "      <td>8.431</td>\n",
       "      <td>5470</td>\n",
       "      <td>Ivan Rakitić</td>\n",
       "      <td>Barcelona</td>\n",
       "    </tr>\n",
       "    <tr>\n",
       "      <th>4</th>\n",
       "      <td>46f0e871-3e72-4817-9a53-af27583ba6c1</td>\n",
       "      <td>PASS</td>\n",
       "      <td>COMPLETE</td>\n",
       "      <td>10.433</td>\n",
       "      <td>5477</td>\n",
       "      <td>Ousmane Dembélé</td>\n",
       "      <td>Barcelona</td>\n",
       "    </tr>\n",
       "  </tbody>\n",
       "</table></div>"
      ],
      "text/plain": [
       "                               event_id event_type      result  timestamp  \\\n",
       "0  34208ade-2af4-45c3-970e-655937cad938       PASS    COMPLETE      0.098   \n",
       "1  d1cccb73-c7ef-4b02-8267-ebd7f149904b       PASS  INCOMPLETE      3.497   \n",
       "2  f1cc47d6-4b19-45a6-beb9-33d67fc83f4b       PASS    COMPLETE      6.785   \n",
       "3  f774571f-4b65-43a0-9bfc-6384948d1b82       PASS    COMPLETE      8.431   \n",
       "4  46f0e871-3e72-4817-9a53-af27583ba6c1       PASS    COMPLETE     10.433   \n",
       "\n",
       "  player_id                       player_name         team_name  \n",
       "0      6581       Jonathan Rodríguez Menéndez  Deportivo Alavés  \n",
       "1      6855  Guillermo Alfonso Maripán Loaysa  Deportivo Alavés  \n",
       "2      5203          Sergio Busquets i Burgos         Barcelona  \n",
       "3      5470                      Ivan Rakitić         Barcelona  \n",
       "4      5477                   Ousmane Dembélé         Barcelona  "
      ]
     },
     "execution_count": 37,
     "metadata": {},
     "output_type": "execute_result"
    }
   ],
   "source": [
    "\n",
    "dataframe = dataset.to_pandas(\n",
    "    additional_columns={\n",
    "        'player_name': lambda event: str(event.player),\n",
    "        'team_name': lambda event: str(event.player.team)\n",
    "    }\n",
    ")\n",
    "\n",
    "dataframe[[\n",
    "    'event_id', 'event_type', 'result', 'timestamp', 'player_id', \n",
    "    'player_name', 'team_name'\n",
    "]].head()"
   ]
  },
  {
   "cell_type": "markdown",
   "metadata": {},
   "source": [
    "## Attribute transformers\n",
    "\n",
    "Attribute transformer make it possible to add predefined attributes to a dataset. The attributes are calculated during export to a pandas DataFrame. Kloppy does provide some Transformers like one to calculate the angle to the goal, and one to calculate the distance to the goal. When you need additional Transformers you can write your one by providing a `Callable` to `to_df`. "
   ]
  },
  {
   "cell_type": "code",
   "execution_count": 38,
   "metadata": {},
   "outputs": [
    {
     "data": {
      "text/html": [
       "<div><div id=24c550d6-6c0c-4bb4-a148-411a684dd3e2 style=\"display:none; background-color:#9D6CFF; color:white; width:200px; height:30px; padding-left:5px; border-radius:4px; flex-direction:row; justify-content:space-around; align-items:center;\" onmouseover=\"this.style.backgroundColor='#BA9BF8'\" onmouseout=\"this.style.backgroundColor='#9D6CFF'\" onclick=\"window.commands?.execute('create-mitosheet-from-dataframe-output');\">See Full Dataframe in Mito</div> <script> if (window.commands?.hasCommand('create-mitosheet-from-dataframe-output')) document.getElementById('24c550d6-6c0c-4bb4-a148-411a684dd3e2').style.display = 'flex' </script> <table border=\"1\" class=\"dataframe\">\n",
       "  <thead>\n",
       "    <tr style=\"text-align: right;\">\n",
       "      <th></th>\n",
       "      <th>angle_to_goal</th>\n",
       "      <th>distance_to_goal</th>\n",
       "    </tr>\n",
       "  </thead>\n",
       "  <tbody>\n",
       "    <tr>\n",
       "      <th>0</th>\n",
       "      <td>90.481466</td>\n",
       "      <td>59.502101</td>\n",
       "    </tr>\n",
       "    <tr>\n",
       "      <th>1</th>\n",
       "      <td>82.249964</td>\n",
       "      <td>85.278954</td>\n",
       "    </tr>\n",
       "    <tr>\n",
       "      <th>2</th>\n",
       "      <td>69.187354</td>\n",
       "      <td>91.468574</td>\n",
       "    </tr>\n",
       "    <tr>\n",
       "      <th>3</th>\n",
       "      <td>77.005383</td>\n",
       "      <td>86.720816</td>\n",
       "    </tr>\n",
       "    <tr>\n",
       "      <th>4</th>\n",
       "      <td>66.562013</td>\n",
       "      <td>94.278842</td>\n",
       "    </tr>\n",
       "    <tr>\n",
       "      <th>...</th>\n",
       "      <td>...</td>\n",
       "      <td>...</td>\n",
       "    </tr>\n",
       "    <tr>\n",
       "      <th>1155</th>\n",
       "      <td>121.578165</td>\n",
       "      <td>63.972650</td>\n",
       "    </tr>\n",
       "    <tr>\n",
       "      <th>1156</th>\n",
       "      <td>104.393593</td>\n",
       "      <td>58.330952</td>\n",
       "    </tr>\n",
       "    <tr>\n",
       "      <th>1157</th>\n",
       "      <td>39.559668</td>\n",
       "      <td>44.749302</td>\n",
       "    </tr>\n",
       "    <tr>\n",
       "      <th>1158</th>\n",
       "      <td>71.095424</td>\n",
       "      <td>38.581083</td>\n",
       "    </tr>\n",
       "    <tr>\n",
       "      <th>1159</th>\n",
       "      <td>55.901268</td>\n",
       "      <td>9.721368</td>\n",
       "    </tr>\n",
       "  </tbody>\n",
       "</table></div>"
      ],
      "text/plain": [
       "      angle_to_goal  distance_to_goal\n",
       "0         90.481466         59.502101\n",
       "1         82.249964         85.278954\n",
       "2         69.187354         91.468574\n",
       "3         77.005383         86.720816\n",
       "4         66.562013         94.278842\n",
       "...             ...               ...\n",
       "1155     121.578165         63.972650\n",
       "1156     104.393593         58.330952\n",
       "1157      39.559668         44.749302\n",
       "1158      71.095424         38.581083\n",
       "1159      55.901268          9.721368\n",
       "\n",
       "[1160 rows x 2 columns]"
      ]
     },
     "execution_count": 38,
     "metadata": {},
     "output_type": "execute_result"
    }
   ],
   "source": [
    "from kloppy import statsbomb\n",
    "\n",
    "from kloppy.domain.services.transformers.attribute import (\n",
    "    BodyPartTransformer, AngleToGoalTransformer, DistanceToGoalTransformer\n",
    ")\n",
    "\n",
    "dataset = statsbomb.load_open_data(\n",
    "    event_types=[\"pass\", \"shot\"], \n",
    "    coordinates=\"statsbomb\"\n",
    ")\n",
    "\n",
    "dataset.to_df(\n",
    "    AngleToGoalTransformer(),\n",
    "    DistanceToGoalTransformer()\n",
    ")"
   ]
  },
  {
   "cell_type": "code",
   "execution_count": 39,
   "metadata": {},
   "outputs": [
    {
     "name": "stdout",
     "output_type": "stream",
     "text": [
      "{'is_body_part_right_foot': False, 'is_body_part_left_foot': True, 'is_body_part_head': False, 'is_body_part_both_hands': False, 'is_body_part_chest': False, 'is_body_part_left_hand': False, 'is_body_part_right_hand': False, 'is_body_part_drop_kick': False, 'is_body_part_keeper_arm': False, 'is_body_part_other': False, 'is_body_part_no_touch': False}\n"
     ]
    },
    {
     "data": {
      "text/plain": [
       "{'angle_to_goal': 90.48146580583835}"
      ]
     },
     "execution_count": 39,
     "metadata": {},
     "output_type": "execute_result"
    }
   ],
   "source": [
    "event = dataset.events[0]\n",
    "\n",
    "transformer = BodyPartTransformer(encoding=\"one-hot\")\n",
    "print(transformer(event))\n",
    "\n",
    "\n",
    "transformer = AngleToGoalTransformer()\n",
    "transformer(event)"
   ]
  },
  {
   "cell_type": "markdown",
   "metadata": {},
   "source": [
    "## Wildcard\n",
    "\n",
    "When you want to export a set of attributes you can specify a wildcard pattern. This pattern is matched against all default (exported by the `Default` Transformer) attributes."
   ]
  },
  {
   "cell_type": "code",
   "execution_count": 40,
   "metadata": {},
   "outputs": [
    {
     "data": {
      "text/html": [
       "<div><div id=d3fe7f8d-1308-4602-9315-2e25e4a97a97 style=\"display:none; background-color:#9D6CFF; color:white; width:200px; height:30px; padding-left:5px; border-radius:4px; flex-direction:row; justify-content:space-around; align-items:center;\" onmouseover=\"this.style.backgroundColor='#BA9BF8'\" onmouseout=\"this.style.backgroundColor='#9D6CFF'\" onclick=\"window.commands?.execute('create-mitosheet-from-dataframe-output');\">See Full Dataframe in Mito</div> <script> if (window.commands?.hasCommand('create-mitosheet-from-dataframe-output')) document.getElementById('d3fe7f8d-1308-4602-9315-2e25e4a97a97').style.display = 'flex' </script> <table border=\"1\" class=\"dataframe\">\n",
       "  <thead>\n",
       "    <tr style=\"text-align: right;\">\n",
       "      <th></th>\n",
       "      <th>period_id</th>\n",
       "      <th>timestamp</th>\n",
       "      <th>coordinates_x</th>\n",
       "      <th>coordinates_y</th>\n",
       "      <th>end_coordinates_x</th>\n",
       "      <th>end_coordinates_y</th>\n",
       "    </tr>\n",
       "  </thead>\n",
       "  <tbody>\n",
       "    <tr>\n",
       "      <th>0</th>\n",
       "      <td>1</td>\n",
       "      <td>0.098</td>\n",
       "      <td>60.50</td>\n",
       "      <td>40.50</td>\n",
       "      <td>35.5</td>\n",
       "      <td>25.5</td>\n",
       "    </tr>\n",
       "    <tr>\n",
       "      <th>1</th>\n",
       "      <td>1</td>\n",
       "      <td>3.497</td>\n",
       "      <td>35.50</td>\n",
       "      <td>28.50</td>\n",
       "      <td>85.5</td>\n",
       "      <td>72.5</td>\n",
       "    </tr>\n",
       "    <tr>\n",
       "      <th>2</th>\n",
       "      <td>1</td>\n",
       "      <td>6.785</td>\n",
       "      <td>34.50</td>\n",
       "      <td>7.50</td>\n",
       "      <td>34.5</td>\n",
       "      <td>20.5</td>\n",
       "    </tr>\n",
       "    <tr>\n",
       "      <th>3</th>\n",
       "      <td>1</td>\n",
       "      <td>8.431</td>\n",
       "      <td>35.50</td>\n",
       "      <td>20.50</td>\n",
       "      <td>35.5</td>\n",
       "      <td>1.5</td>\n",
       "    </tr>\n",
       "    <tr>\n",
       "      <th>4</th>\n",
       "      <td>1</td>\n",
       "      <td>10.433</td>\n",
       "      <td>33.50</td>\n",
       "      <td>2.50</td>\n",
       "      <td>25.5</td>\n",
       "      <td>1.5</td>\n",
       "    </tr>\n",
       "    <tr>\n",
       "      <th>...</th>\n",
       "      <td>...</td>\n",
       "      <td>...</td>\n",
       "      <td>...</td>\n",
       "      <td>...</td>\n",
       "      <td>...</td>\n",
       "      <td>...</td>\n",
       "    </tr>\n",
       "    <tr>\n",
       "      <th>1155</th>\n",
       "      <td>2</td>\n",
       "      <td>2787.914</td>\n",
       "      <td>65.50</td>\n",
       "      <td>73.50</td>\n",
       "      <td>59.5</td>\n",
       "      <td>60.5</td>\n",
       "    </tr>\n",
       "    <tr>\n",
       "      <th>1156</th>\n",
       "      <td>2</td>\n",
       "      <td>2791.395</td>\n",
       "      <td>63.50</td>\n",
       "      <td>54.50</td>\n",
       "      <td>89.5</td>\n",
       "      <td>5.5</td>\n",
       "    </tr>\n",
       "    <tr>\n",
       "      <th>1157</th>\n",
       "      <td>2</td>\n",
       "      <td>2795.127</td>\n",
       "      <td>91.50</td>\n",
       "      <td>5.50</td>\n",
       "      <td>90.5</td>\n",
       "      <td>26.5</td>\n",
       "    </tr>\n",
       "    <tr>\n",
       "      <th>1158</th>\n",
       "      <td>2</td>\n",
       "      <td>2798.906</td>\n",
       "      <td>83.50</td>\n",
       "      <td>27.50</td>\n",
       "      <td>106.5</td>\n",
       "      <td>44.5</td>\n",
       "    </tr>\n",
       "    <tr>\n",
       "      <th>1159</th>\n",
       "      <td>2</td>\n",
       "      <td>2802.770</td>\n",
       "      <td>111.95</td>\n",
       "      <td>34.55</td>\n",
       "      <td>NaN</td>\n",
       "      <td>NaN</td>\n",
       "    </tr>\n",
       "  </tbody>\n",
       "</table></div>"
      ],
      "text/plain": [
       "      period_id  timestamp  coordinates_x  coordinates_y  end_coordinates_x  \\\n",
       "0             1      0.098          60.50          40.50               35.5   \n",
       "1             1      3.497          35.50          28.50               85.5   \n",
       "2             1      6.785          34.50           7.50               34.5   \n",
       "3             1      8.431          35.50          20.50               35.5   \n",
       "4             1     10.433          33.50           2.50               25.5   \n",
       "...         ...        ...            ...            ...                ...   \n",
       "1155          2   2787.914          65.50          73.50               59.5   \n",
       "1156          2   2791.395          63.50          54.50               89.5   \n",
       "1157          2   2795.127          91.50           5.50               90.5   \n",
       "1158          2   2798.906          83.50          27.50              106.5   \n",
       "1159          2   2802.770         111.95          34.55                NaN   \n",
       "\n",
       "      end_coordinates_y  \n",
       "0                  25.5  \n",
       "1                  72.5  \n",
       "2                  20.5  \n",
       "3                   1.5  \n",
       "4                   1.5  \n",
       "...                 ...  \n",
       "1155               60.5  \n",
       "1156                5.5  \n",
       "1157               26.5  \n",
       "1158               44.5  \n",
       "1159                NaN  \n",
       "\n",
       "[1160 rows x 6 columns]"
      ]
     },
     "execution_count": 40,
     "metadata": {},
     "output_type": "execute_result"
    }
   ],
   "source": [
    "dataset.to_df(\n",
    "    'period_id',\n",
    "    'timestamp',\n",
    "    '*coordinates*',\n",
    ")"
   ]
  },
  {
   "cell_type": "markdown",
   "metadata": {},
   "source": [
    "## User-defined Transformers\n",
    "\n",
    "Transformers are nothing more than a function which accepts a `Event` and returns `Dict` (`Callable[[Event], Dict])`). The Transformers provided by kloppy are actually classes that define a `__call__` method. You can also use a `lambda` function or any other function to transform attributes.\n",
    "\n",
    "When you use named attributes (specified using a keyword argument) the returned value can be any type (`Callable[[Event], Any]`). "
   ]
  },
  {
   "cell_type": "code",
   "execution_count": 41,
   "metadata": {},
   "outputs": [
    {
     "data": {
      "text/html": [
       "<div><div id=6140a131-abf3-4942-b7cc-ff00fde97a16 style=\"display:none; background-color:#9D6CFF; color:white; width:200px; height:30px; padding-left:5px; border-radius:4px; flex-direction:row; justify-content:space-around; align-items:center;\" onmouseover=\"this.style.backgroundColor='#BA9BF8'\" onmouseout=\"this.style.backgroundColor='#9D6CFF'\" onclick=\"window.commands?.execute('create-mitosheet-from-dataframe-output');\">See Full Dataframe in Mito</div> <script> if (window.commands?.hasCommand('create-mitosheet-from-dataframe-output')) document.getElementById('6140a131-abf3-4942-b7cc-ff00fde97a16').style.display = 'flex' </script> <table border=\"1\" class=\"dataframe\">\n",
       "  <thead>\n",
       "    <tr style=\"text-align: right;\">\n",
       "      <th></th>\n",
       "      <th>period</th>\n",
       "      <th>timestamp</th>\n",
       "      <th>some_columns</th>\n",
       "      <th>other_column</th>\n",
       "    </tr>\n",
       "  </thead>\n",
       "  <tbody>\n",
       "    <tr>\n",
       "      <th>0</th>\n",
       "      <td>1</td>\n",
       "      <td>0.098</td>\n",
       "      <td>1234</td>\n",
       "      <td>3</td>\n",
       "    </tr>\n",
       "    <tr>\n",
       "      <th>1</th>\n",
       "      <td>1</td>\n",
       "      <td>3.497</td>\n",
       "      <td>1234</td>\n",
       "      <td>243</td>\n",
       "    </tr>\n",
       "    <tr>\n",
       "      <th>2</th>\n",
       "      <td>1</td>\n",
       "      <td>6.785</td>\n",
       "      <td>1234</td>\n",
       "      <td>74</td>\n",
       "    </tr>\n",
       "    <tr>\n",
       "      <th>3</th>\n",
       "      <td>1</td>\n",
       "      <td>8.431</td>\n",
       "      <td>1234</td>\n",
       "      <td>237</td>\n",
       "    </tr>\n",
       "    <tr>\n",
       "      <th>4</th>\n",
       "      <td>1</td>\n",
       "      <td>10.433</td>\n",
       "      <td>1234</td>\n",
       "      <td>165</td>\n",
       "    </tr>\n",
       "    <tr>\n",
       "      <th>...</th>\n",
       "      <td>...</td>\n",
       "      <td>...</td>\n",
       "      <td>...</td>\n",
       "      <td>...</td>\n",
       "    </tr>\n",
       "    <tr>\n",
       "      <th>1155</th>\n",
       "      <td>2</td>\n",
       "      <td>2787.914</td>\n",
       "      <td>1234</td>\n",
       "      <td>79</td>\n",
       "    </tr>\n",
       "    <tr>\n",
       "      <th>1156</th>\n",
       "      <td>2</td>\n",
       "      <td>2791.395</td>\n",
       "      <td>1234</td>\n",
       "      <td>252</td>\n",
       "    </tr>\n",
       "    <tr>\n",
       "      <th>1157</th>\n",
       "      <td>2</td>\n",
       "      <td>2795.127</td>\n",
       "      <td>1234</td>\n",
       "      <td>197</td>\n",
       "    </tr>\n",
       "    <tr>\n",
       "      <th>1158</th>\n",
       "      <td>2</td>\n",
       "      <td>2798.906</td>\n",
       "      <td>1234</td>\n",
       "      <td>54</td>\n",
       "    </tr>\n",
       "    <tr>\n",
       "      <th>1159</th>\n",
       "      <td>2</td>\n",
       "      <td>2802.770</td>\n",
       "      <td>1234</td>\n",
       "      <td>59</td>\n",
       "    </tr>\n",
       "  </tbody>\n",
       "</table></div>"
      ],
      "text/plain": [
       "      period  timestamp  some_columns  other_column\n",
       "0          1      0.098          1234             3\n",
       "1          1      3.497          1234           243\n",
       "2          1      6.785          1234            74\n",
       "3          1      8.431          1234           237\n",
       "4          1     10.433          1234           165\n",
       "...      ...        ...           ...           ...\n",
       "1155       2   2787.914          1234            79\n",
       "1156       2   2791.395          1234           252\n",
       "1157       2   2795.127          1234           197\n",
       "1158       2   2798.906          1234            54\n",
       "1159       2   2802.770          1234            59\n",
       "\n",
       "[1160 rows x 4 columns]"
      ]
     },
     "execution_count": 41,
     "metadata": {},
     "output_type": "execute_result"
    }
   ],
   "source": [
    "import random\n",
    "\n",
    "dataset.to_df(\n",
    "    # Unnamed transformer must always be defined as a Callable. The function must return a Dictionary\n",
    "    lambda event: {'period': event.period.id, 'timestamp': event.timestamp},\n",
    "    \n",
    "    # Named transformer can be specified as a constant\n",
    "    some_columns=1234,\n",
    "    \n",
    "    # Or as a callable\n",
    "    other_column=lambda x: random.randint(0, 255)\n",
    ")"
   ]
  },
  {
   "cell_type": "markdown",
   "metadata": {},
   "source": [
    "## to_records\n",
    "\n",
    "Under the hood the `to_df` method uses the `to_records` method. "
   ]
  },
  {
   "cell_type": "code",
   "execution_count": 42,
   "metadata": {},
   "outputs": [
    {
     "data": {
      "text/plain": [
       "[{'period': 1, 'timestamp': 0.098, 'some_columns': 1234, 'other_column': 33},\n",
       " {'period': 1, 'timestamp': 3.497, 'some_columns': 1234, 'other_column': 98},\n",
       " {'period': 1, 'timestamp': 6.785, 'some_columns': 1234, 'other_column': 64},\n",
       " {'period': 1, 'timestamp': 8.431, 'some_columns': 1234, 'other_column': 171},\n",
       " {'period': 1, 'timestamp': 10.433, 'some_columns': 1234, 'other_column': 56},\n",
       " {'period': 1, 'timestamp': 11.15, 'some_columns': 1234, 'other_column': 179},\n",
       " {'period': 1, 'timestamp': 24.687, 'some_columns': 1234, 'other_column': 251},\n",
       " {'period': 1, 'timestamp': 30.008, 'some_columns': 1234, 'other_column': 20},\n",
       " {'period': 1, 'timestamp': 34.738, 'some_columns': 1234, 'other_column': 218},\n",
       " {'period': 1, 'timestamp': 37.467, 'some_columns': 1234, 'other_column': 255}]"
      ]
     },
     "execution_count": 42,
     "metadata": {},
     "output_type": "execute_result"
    }
   ],
   "source": [
    "records = dataset.to_records(\n",
    "    # Unnamed transformer must always be defined as a Callable. The function must return a Dictionary\n",
    "    lambda event: {'period': event.period.id, 'timestamp': event.timestamp},\n",
    "    \n",
    "    # Named transformer can be specified as a constant\n",
    "    some_columns=1234,\n",
    "    \n",
    "    # Or as a callable\n",
    "    other_column=lambda x: random.randint(0, 255)\n",
    ")\n",
    "records[:10]"
   ]
  },
  {
   "cell_type": "markdown",
   "metadata": {},
   "source": [
    "## EventFactory\n",
    "\n",
    "In some cases like to use your own `Event` classes. This can be useful when you need certain data that isn't stored in the regular `Event` classes"
   ]
  },
  {
   "cell_type": "code",
   "execution_count": 43,
   "metadata": {},
   "outputs": [
    {
     "data": {
      "text/html": [
       "<div><div id=1e19e77d-1fa2-4b10-b292-cafa935b6578 style=\"display:none; background-color:#9D6CFF; color:white; width:200px; height:30px; padding-left:5px; border-radius:4px; flex-direction:row; justify-content:space-around; align-items:center;\" onmouseover=\"this.style.backgroundColor='#BA9BF8'\" onmouseout=\"this.style.backgroundColor='#9D6CFF'\" onclick=\"window.commands?.execute('create-mitosheet-from-dataframe-output');\">See Full Dataframe in Mito</div> <script> if (window.commands?.hasCommand('create-mitosheet-from-dataframe-output')) document.getElementById('1e19e77d-1fa2-4b10-b292-cafa935b6578').style.display = 'flex' </script> <table border=\"1\" class=\"dataframe\">\n",
       "  <thead>\n",
       "    <tr style=\"text-align: right;\">\n",
       "      <th></th>\n",
       "      <th>statsbomb_xg</th>\n",
       "      <th>player</th>\n",
       "      <th>timestamp</th>\n",
       "    </tr>\n",
       "  </thead>\n",
       "  <tbody>\n",
       "    <tr>\n",
       "      <th>0</th>\n",
       "      <td>0.075164</td>\n",
       "      <td>Lionel Andrés Messi Cuccittini</td>\n",
       "      <td>149.094</td>\n",
       "    </tr>\n",
       "    <tr>\n",
       "      <th>1</th>\n",
       "      <td>0.062892</td>\n",
       "      <td>Jordi Alba Ramos</td>\n",
       "      <td>339.239</td>\n",
       "    </tr>\n",
       "    <tr>\n",
       "      <th>2</th>\n",
       "      <td>0.020535</td>\n",
       "      <td>Lionel Andrés Messi Cuccittini</td>\n",
       "      <td>928.625</td>\n",
       "    </tr>\n",
       "    <tr>\n",
       "      <th>3</th>\n",
       "      <td>0.096234</td>\n",
       "      <td>Rubén Sobrino Pozuelo</td>\n",
       "      <td>979.616</td>\n",
       "    </tr>\n",
       "    <tr>\n",
       "      <th>4</th>\n",
       "      <td>0.035420</td>\n",
       "      <td>Luis Alberto Suárez Díaz</td>\n",
       "      <td>1095.914</td>\n",
       "    </tr>\n",
       "    <tr>\n",
       "      <th>...</th>\n",
       "      <td>...</td>\n",
       "      <td>...</td>\n",
       "      <td>...</td>\n",
       "    </tr>\n",
       "    <tr>\n",
       "      <th>23</th>\n",
       "      <td>0.137859</td>\n",
       "      <td>Adrián Marín Gómez</td>\n",
       "      <td>4702.947</td>\n",
       "    </tr>\n",
       "    <tr>\n",
       "      <th>24</th>\n",
       "      <td>0.379632</td>\n",
       "      <td>Philippe Coutinho Correia</td>\n",
       "      <td>4896.874</td>\n",
       "    </tr>\n",
       "    <tr>\n",
       "      <th>25</th>\n",
       "      <td>0.086874</td>\n",
       "      <td>Philippe Coutinho Correia</td>\n",
       "      <td>4966.846</td>\n",
       "    </tr>\n",
       "    <tr>\n",
       "      <th>26</th>\n",
       "      <td>0.262502</td>\n",
       "      <td>Lionel Andrés Messi Cuccittini</td>\n",
       "      <td>5367.906</td>\n",
       "    </tr>\n",
       "    <tr>\n",
       "      <th>27</th>\n",
       "      <td>0.289481</td>\n",
       "      <td>Lionel Andrés Messi Cuccittini</td>\n",
       "      <td>5508.038</td>\n",
       "    </tr>\n",
       "  </tbody>\n",
       "</table></div>"
      ],
      "text/plain": [
       "    statsbomb_xg                          player  timestamp\n",
       "0       0.075164  Lionel Andrés Messi Cuccittini    149.094\n",
       "1       0.062892                Jordi Alba Ramos    339.239\n",
       "2       0.020535  Lionel Andrés Messi Cuccittini    928.625\n",
       "3       0.096234           Rubén Sobrino Pozuelo    979.616\n",
       "4       0.035420        Luis Alberto Suárez Díaz   1095.914\n",
       "5       0.089920                 Ousmane Dembélé   1842.287\n",
       "6       0.071365                    Ivan Rakitić   2104.861\n",
       "7       0.078886  Lionel Andrés Messi Cuccittini   2248.168\n",
       "8       0.171218           Gerard Piqué Bernabéu   2250.989\n",
       "9       0.226095                 Ousmane Dembélé   2308.083\n",
       "10      0.257290        Luis Alberto Suárez Díaz   2434.592\n",
       "11      0.145402                 Ousmane Dembélé   2610.612\n",
       "12      0.143644                Jordi Alba Ramos   2864.792\n",
       "13      0.034266                  Mubarak Wakaso   3072.668\n",
       "14      0.018334        Luis Alberto Suárez Díaz   3239.623\n",
       "15      0.014615       Philippe Coutinho Correia   3301.656\n",
       "16      0.039418                Jordi Alba Ramos   3339.758\n",
       "17      0.026228  Lionel Andrés Messi Cuccittini   3446.115\n",
       "18      0.031532       Philippe Coutinho Correia   3641.424\n",
       "19      0.137812  Lionel Andrés Messi Cuccittini   3797.222\n",
       "20      0.081403  Lionel Andrés Messi Cuccittini   3948.856\n",
       "21      0.009953                    Ivan Rakitić   4118.643\n",
       "22      0.337188        Luis Alberto Suárez Díaz   4352.760\n",
       "23      0.137859              Adrián Marín Gómez   4702.947\n",
       "24      0.379632       Philippe Coutinho Correia   4896.874\n",
       "25      0.086874       Philippe Coutinho Correia   4966.846\n",
       "26      0.262502  Lionel Andrés Messi Cuccittini   5367.906\n",
       "27      0.289481  Lionel Andrés Messi Cuccittini   5508.038"
      ]
     },
     "execution_count": 43,
     "metadata": {},
     "output_type": "execute_result"
    }
   ],
   "source": [
    "from dataclasses import dataclass\n",
    "\n",
    "from kloppy.domain import EventFactory, create_event, ShotEvent\n",
    "from kloppy import statsbomb\n",
    "\n",
    "\n",
    "@dataclass(repr=False)\n",
    "class StatsBombShotEvent(ShotEvent):\n",
    "    statsbomb_xg: float = None\n",
    "    \n",
    "    \n",
    "class StatsBombEventFactory(EventFactory):\n",
    "    def build_shot(self, **kwargs) -> ShotEvent:\n",
    "        kwargs['statsbomb_xg'] = kwargs['raw_event']['shot']['statsbomb_xg']\n",
    "        return create_event(StatsBombShotEvent, **kwargs)\n",
    "       \n",
    "        \n",
    "event_factory = StatsBombEventFactory()\n",
    "\n",
    "dataset = statsbomb.load_open_data(event_factory=event_factory)\n",
    "\n",
    "dataset.filter(\"shot\").to_df(\n",
    "    \"statsbomb_xg\",\n",
    "    \"player\",\n",
    "    timestamp=lambda event: event.period.start_timestamp + event.timestamp,\n",
    ")"
   ]
  },
  {
   "cell_type": "markdown",
   "metadata": {},
   "source": [
    "## Freeze frame\n",
    "\n",
    "For event data it's very useful to have additional context about the event. This can be a metric like packing or xG, but also the frame of tracking data. This freeze frame contains player coordinates. Some providers retrieve the information from broadcast video feeds and therefore only the coordinates of players visible in the feed are known.\n",
    "Furthermore the vendor might include only the team of the player, and not a player identifier."
   ]
  },
  {
   "cell_type": "code",
   "execution_count": 44,
   "metadata": {},
   "outputs": [],
   "source": [
    "dataset = statsbomb.load_open_data(\n",
    "    match_id='3788741',\n",
    "    coordinates=\"statsbomb\"\n",
    ")"
   ]
  },
  {
   "cell_type": "code",
   "execution_count": 45,
   "metadata": {},
   "outputs": [],
   "source": [
    "event = dataset.find(\"shot\")"
   ]
  },
  {
   "cell_type": "code",
   "execution_count": 47,
   "metadata": {},
   "outputs": [
    {
     "data": {
      "image/png": "[encoded data removed]",
      "text/plain": [
       "<Figure size 432x288 with 1 Axes>"
      ]
     },
     "metadata": {},
     "output_type": "display_data"
    }
   ],
   "source": [
    "from mplsoccer.pitch import Pitch\n",
    "\n",
    "home_team = dataset.metadata.teams[0]\n",
    "\n",
    "pitch = Pitch(pitch_type='statsbomb', orientation='horizontal',\n",
    "              pitch_color='white', line_color='#c7d5cc', figsize=(16, 11),\n",
    "              constrained_layout=True, tight_layout=False)\n",
    "fig, ax = pitch.draw()\n",
    "\n",
    "def get_color(player):\n",
    "    if player == event.player:\n",
    "        return \"blue\"\n",
    "    elif player.team == event.player.team:\n",
    "        return \"green\"\n",
    "    elif player.position.position_id == '1':\n",
    "        return \"black\"\n",
    "    else:\n",
    "        return \"grey\"\n",
    "\n",
    "x, y, color = zip(*[\n",
    "  (coordinates.x, coordinates.y, get_color(player))\n",
    "     for player, coordinates in event.freeze_frame.players_coordinates.items()\n",
    "])\n",
    "\n",
    "_ = pitch.scatter(x, y, color=color, ax=ax)"
   ]
  }
 ],
 "metadata": {
  "kernelspec": {
   "display_name": "kloppy-venv",
   "language": "python",
   "name": "kloppy-venv"
  },
  "language_info": {
   "codemirror_mode": {
    "name": "ipython",
    "version": 3
   },
   "file_extension": ".py",
   "mimetype": "text/x-python",
   "name": "python",
   "nbconvert_exporter": "python",
   "pygments_lexer": "ipython3",
   "version": "3.8.9"
  },
  "toc": {
   "base_numbering": 1,
   "nav_menu": {},
   "number_sections": true,
   "sideBar": true,
   "skip_h1_title": false,
   "title_cell": "Table of Contents",
   "title_sidebar": "Contents",
   "toc_cell": false,
   "toc_position": {},
   "toc_section_display": true,
   "toc_window_display": false
  }
 },
 "nbformat": 4,
 "nbformat_minor": 4
}
