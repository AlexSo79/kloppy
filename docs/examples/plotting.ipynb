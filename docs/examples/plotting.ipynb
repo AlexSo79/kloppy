{
 "cells": [
  {
   "cell_type": "markdown",
   "metadata": {},
   "source": [
    "# Plotting\n",
    "\n",
    "In this quickstart, we'll show all kind of examples. As PySport encourages OpenSource projects, all examples use other sports analytics packages in combination with kloppy. You can find more packages at https://opensource.pysport.org/\n",
    "\n",
    "\n",
    "## Plotting events using mplsoccer\n",
    "\n",
    "In this example the [mplsoccer](https://github.com/andrewRowlinson/mplsoccer) package by [Andy Rowlinson](https://twitter.com/numberstorm) is used.\n"
   ]
  },
  {
   "cell_type": "code",
   "execution_count": 1,
   "metadata": {},
   "outputs": [
    {
     "name": "stdout",
     "output_type": "stream",
     "text": [
      "Collecting mplsoccer\n",
      "  Downloading mplsoccer-1.0.5.tar.gz (57 kB)\n",
      "\u001b[K     |████████████████████████████████| 57 kB 1.4 MB/s eta 0:00:01\n",
      "\u001b[?25hCollecting matplotlib\n",
      "  Downloading matplotlib-3.5.1-cp38-cp38-macosx_11_0_arm64.whl (7.2 MB)\n",
      "\u001b[K     |████████████████████████████████| 7.2 MB 666 kB/s eta 0:00:01\n",
      "\u001b[?25hCollecting seaborn\n",
      "  Downloading seaborn-0.11.2-py3-none-any.whl (292 kB)\n",
      "\u001b[K     |████████████████████████████████| 292 kB 795 kB/s eta 0:00:01\n",
      "\u001b[?25hCollecting scipy\n",
      "  Downloading scipy-1.7.3-1-cp38-cp38-macosx_12_0_arm64.whl (26.9 MB)\n",
      "\u001b[K     |████████████████████████████████| 26.9 MB 1.3 MB/s eta 0:00:01\n",
      "\u001b[?25hRequirement already satisfied: pandas in /Users/koen/Developer/Projects/PySport/kloppy/.venv/lib/python3.8/site-packages (from mplsoccer) (1.3.5)\n",
      "Collecting pillow\n",
      "  Downloading Pillow-8.4.0-cp38-cp38-macosx_11_0_arm64.whl (2.8 MB)\n",
      "\u001b[K     |████████████████████████████████| 2.8 MB 1.2 MB/s eta 0:00:01\n",
      "\u001b[?25hRequirement already satisfied: numpy in /Users/koen/Developer/Projects/PySport/kloppy/.venv/lib/python3.8/site-packages (from mplsoccer) (1.21.4)\n",
      "Collecting beautifulsoup4\n",
      "  Downloading beautifulsoup4-4.10.0-py3-none-any.whl (97 kB)\n",
      "\u001b[K     |████████████████████████████████| 97 kB 1.1 MB/s eta 0:00:01\n",
      "\u001b[?25hRequirement already satisfied: python-dateutil>=2.7 in /Users/koen/Developer/Projects/PySport/kloppy/.venv/lib/python3.8/site-packages (from matplotlib) (2.8.2)\n",
      "Collecting fonttools>=4.22.0\n",
      "  Downloading fonttools-4.28.5-py3-none-any.whl (890 kB)\n",
      "\u001b[K     |████████████████████████████████| 890 kB 630 kB/s eta 0:00:01\n",
      "\u001b[?25hCollecting cycler>=0.10\n",
      "  Downloading cycler-0.11.0-py3-none-any.whl (6.4 kB)\n",
      "Requirement already satisfied: packaging>=20.0 in /Users/koen/Developer/Projects/PySport/kloppy/.venv/lib/python3.8/site-packages (from matplotlib) (21.3)\n",
      "Requirement already satisfied: pyparsing>=2.2.1 in /Users/koen/Developer/Projects/PySport/kloppy/.venv/lib/python3.8/site-packages (from matplotlib) (3.0.6)\n",
      "Collecting kiwisolver>=1.0.1\n",
      "  Downloading kiwisolver-1.3.2-cp38-cp38-macosx_11_0_arm64.whl (59 kB)\n",
      "\u001b[K     |████████████████████████████████| 59 kB 1.3 MB/s eta 0:00:01\n",
      "\u001b[?25hRequirement already satisfied: six>=1.5 in /Users/koen/Developer/Projects/PySport/kloppy/.venv/lib/python3.8/site-packages (from python-dateutil>=2.7->matplotlib) (1.16.0)\n",
      "Requirement already satisfied: pytz>=2017.3 in /Users/koen/Developer/Projects/PySport/kloppy/.venv/lib/python3.8/site-packages (from pandas->mplsoccer) (2021.3)\n",
      "Collecting soupsieve>1.2\n",
      "  Downloading soupsieve-2.3.1-py3-none-any.whl (37 kB)\n",
      "Building wheels for collected packages: mplsoccer\n",
      "  Building wheel for mplsoccer (setup.py) ... \u001b[?25ldone\n",
      "\u001b[?25h  Created wheel for mplsoccer: filename=mplsoccer-1.0.5-py3-none-any.whl size=62945 sha256=16994e8b7249911aca813d3ad2e701c61450199c86ba47a3ceab2c4b4201f639\n",
      "  Stored in directory: /Users/koen/Library/Caches/pip/wheels/9d/00/80/238af6bc002b4ab5163484f1584ff6b9e795b8b1a33463768d\n",
      "Successfully built mplsoccer\n",
      "Installing collected packages: pillow, kiwisolver, fonttools, cycler, soupsieve, scipy, matplotlib, seaborn, beautifulsoup4, mplsoccer\n",
      "Successfully installed beautifulsoup4-4.10.0 cycler-0.11.0 fonttools-4.28.5 kiwisolver-1.3.2 matplotlib-3.5.1 mplsoccer-1.0.5 pillow-8.4.0 scipy-1.7.3 seaborn-0.11.2 soupsieve-2.3.1\n",
      "\u001b[33mWARNING: You are using pip version 21.1.2; however, version 21.3.1 is available.\n",
      "You should consider upgrading via the '/Users/koen/Developer/Projects/PySport/kloppy/.venv/bin/python -m pip install --upgrade pip' command.\u001b[0m\n"
     ]
    }
   ],
   "source": [
    "import sys\n",
    "!{sys.executable} -m pip install mplsoccer matplotlib seaborn"
   ]
  },
  {
   "cell_type": "code",
   "execution_count": 3,
   "metadata": {},
   "outputs": [
    {
     "name": "stdout",
     "output_type": "stream",
     "text": [
      "Going to show passes of: Lionel Andrés Messi Cuccittini\n"
     ]
    }
   ],
   "source": [
    "## Load data\n",
    "\n",
    "from mplsoccer.pitch import Pitch\n",
    "from kloppy import statsbomb\n",
    "\n",
    "dataset = statsbomb.load_open_data(\n",
    "    event_types=[\"pass\"], \n",
    "    coordinates=\"statsbomb\"\n",
    ")\n",
    "\n",
    "home_team, away_team = dataset.metadata.teams\n",
    "\n",
    "messi = home_team.players[9]\n",
    "print(f\"Going to show passes of: {messi}\")"
   ]
  },
  {
   "cell_type": "code",
   "execution_count": 4,
   "metadata": {},
   "outputs": [
    {
     "data": {
      "image/png": "[encoded data removed]",
      "text/plain": [
       "<Figure size 432x288 with 1 Axes>"
      ]
     },
     "metadata": {},
     "output_type": "display_data"
    }
   ],
   "source": [
    "df = (\n",
    "    dataset\n",
    "    .filter(lambda event: event.player == messi)\n",
    "    .to_pandas()\n",
    ")\n",
    "\n",
    "\n",
    "pitch = Pitch(pitch_color='#e7f1fa', line_zorder=1, line_color='black', pitch_type=\"statsbomb\")\n",
    "fig, ax = pitch.draw()\n",
    "plot = pitch.kdeplot(\n",
    "    df[\"coordinates_x\"],\n",
    "    df[\"coordinates_y\"],\n",
    "    ax=ax,\n",
    "    shade=True,\n",
    "    n_levels=50,\n",
    ")"
   ]
  },
  {
   "cell_type": "code",
   "execution_count": null,
   "metadata": {},
   "outputs": [],
   "source": []
  }
 ],
 "metadata": {
  "kernelspec": {
   "display_name": "Python 3 (ipykernel)",
   "language": "python",
   "name": "python3"
  },
  "language_info": {
   "codemirror_mode": {
    "name": "ipython",
    "version": 3
   },
   "file_extension": ".py",
   "mimetype": "text/x-python",
   "name": "python",
   "nbconvert_exporter": "python",
   "pygments_lexer": "ipython3",
   "version": "3.8.9"
  },
  "toc": {
   "base_numbering": 1,
   "nav_menu": {},
   "number_sections": true,
   "sideBar": true,
   "skip_h1_title": false,
   "title_cell": "Table of Contents",
   "title_sidebar": "Contents",
   "toc_cell": false,
   "toc_position": {},
   "toc_section_display": true,
   "toc_window_display": false
  }
 },
 "nbformat": 4,
 "nbformat_minor": 4
}
