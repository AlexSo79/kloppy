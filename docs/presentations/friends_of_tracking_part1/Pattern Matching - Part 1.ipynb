{
 "cells": [
  {
   "cell_type": "markdown",
   "metadata": {
    "slideshow": {
     "slide_type": "slide"
    }
   },
   "source": [
    "# Intro to pattern matching\n",
    "<img src=\"assets/pattern.png\" style=\"width: 80%\" />"
   ]
  },
  {
   "cell_type": "markdown",
   "metadata": {
    "slideshow": {
     "slide_type": "slide"
    }
   },
   "source": [
    "# Contents\n",
    "\n",
    "<ul>\n",
    "    <li>Intro to regular expressions</li>\n",
    "    <li>Event data</li>\n",
    "    <li>Applying regular expressions to event data</li>\n",
    "    <li>Finding the assist</li>\n",
    "    <li>Introducing zones</li>\n",
    "    <li>Plotting the results</li>\n",
    "</ul>"
   ]
  },
  {
   "cell_type": "markdown",
   "metadata": {
    "slideshow": {
     "slide_type": "slide"
    }
   },
   "source": [
    "# Intro: matching a string"
   ]
  },
  {
   "cell_type": "code",
   "execution_count": 16,
   "metadata": {
    "slideshow": {
     "slide_type": "fragment"
    }
   },
   "outputs": [
    {
     "name": "stdout",
     "output_type": "stream",
     "text": [
      "match\n"
     ]
    }
   ],
   "source": [
    "import re\n",
    "\n",
    "string = '1234AB'\n",
    "\n",
    "if re.match('([0-9]{4}[A-Z]{2})', string):\n",
    "    print(\"match\")\n",
    "else:\n",
    "    print(\"no match\")"
   ]
  },
  {
   "cell_type": "code",
   "execution_count": 17,
   "metadata": {
    "slideshow": {
     "slide_type": "fragment"
    }
   },
   "outputs": [
    {
     "name": "stdout",
     "output_type": "stream",
     "text": [
      "no match\n"
     ]
    }
   ],
   "source": [
    "string = '12345AB'\n",
    "\n",
    "if re.match('([0-9]{4}[A-Z]{2})', string):\n",
    "    print(\"match\")\n",
    "else:\n",
    "    print(\"no match\")"
   ]
  },
  {
   "cell_type": "markdown",
   "metadata": {
    "slideshow": {
     "slide_type": "slide"
    }
   },
   "source": [
    "# Intro: searching for patterns"
   ]
  },
  {
   "cell_type": "code",
   "execution_count": 1,
   "metadata": {
    "slideshow": {
     "slide_type": "fragment"
    }
   },
   "outputs": [
    {
     "data": {
      "text/plain": [
       "['1234AB', '0000BB', '0987ZZ', '9999AA']"
      ]
     },
     "execution_count": 1,
     "metadata": {},
     "output_type": "execute_result"
    }
   ],
   "source": [
    "import re\n",
    "\n",
    "string = \"Koen 1234AB Henk 123P8 Kees 0000BB 817 0987ZZ 9999AA\"\n",
    "\n",
    "results = re.findall('([0-9]{4}[A-Z]{2})', string)\n",
    "results"
   ]
  },
  {
   "cell_type": "code",
   "execution_count": 168,
   "metadata": {
    "slideshow": {
     "slide_type": "skip"
    }
   },
   "outputs": [],
   "source": [
    "import re\n",
    "from dataclasses import dataclass\n",
    "from typing import Callable, List\n",
    "\n",
    "from kloppy import datasets, to_pandas\n",
    "from kloppy.domain import Event, EventDataset\n",
    "\n",
    "\n",
    "@dataclass\n",
    "class IndexEntry:\n",
    "    start_pos: int\n",
    "    end_pos: int\n",
    "    event: Event\n",
    "\n",
    "\n",
    "class Matcher:\n",
    "    def __init__(self, encoder: Callable[[Event], str]):\n",
    "        self.encoder = encoder\n",
    "\n",
    "    def search(self, dataset: EventDataset, pattern: str) -> List[List[Event]]:\n",
    "        # Step 1: encode events and build index\n",
    "        index = []\n",
    "        encoded_str = ''\n",
    "        for event in dataset.events:\n",
    "            encoded_event = self.encoder(event)\n",
    "            if not encoded_event:\n",
    "                continue\n",
    "\n",
    "            current_pos = len(encoded_str)\n",
    "            index_entry = IndexEntry(\n",
    "                start_pos=current_pos,\n",
    "                end_pos=current_pos + len(encoded_event),\n",
    "                event=event\n",
    "            )\n",
    "            index.append(index_entry)\n",
    "\n",
    "            encoded_str += encoded_event\n",
    "\n",
    "        # Step 2: Search using regular expression\n",
    "        results = re.finditer(pattern, encoded_str)\n",
    "\n",
    "        # Step 3: Decode back to match (List of Events)\n",
    "        matches = []\n",
    "        index_pos = 0\n",
    "        index_length = len(index)\n",
    "        for result in results:\n",
    "            start_pos, end_pos = result.span()\n",
    "\n",
    "            match = []\n",
    "            for i in range(index_pos, index_length):\n",
    "                index_entry = index[i]\n",
    "\n",
    "                if index_entry.start_pos >= end_pos:\n",
    "                    index_pos = i\n",
    "                    break\n",
    "                elif index_entry.start_pos >= start_pos:\n",
    "                    match.append(index_entry.event)\n",
    "\n",
    "            matches.append(match)\n",
    "\n",
    "        return matches"
   ]
  },
  {
   "cell_type": "markdown",
   "metadata": {
    "slideshow": {
     "slide_type": "slide"
    }
   },
   "source": [
    "# Event data"
   ]
  },
  {
   "cell_type": "code",
   "execution_count": 6,
   "metadata": {
    "slideshow": {
     "slide_type": "fragment"
    }
   },
   "outputs": [
    {
     "name": "stdout",
     "output_type": "stream",
     "text": [
      "Barcelona - Deportivo Alavés\n"
     ]
    }
   ],
   "source": [
    "from kloppy import datasets\n",
    "\n",
    "dataset = datasets.load('statsbomb')\n",
    "print(f\"{dataset.metadata.teams[0]} - {dataset.metadata.teams[1]}\")"
   ]
  },
  {
   "cell_type": "markdown",
   "metadata": {
    "slideshow": {
     "slide_type": "slide"
    }
   },
   "source": [
    "# Event data"
   ]
  },
  {
   "cell_type": "code",
   "execution_count": 7,
   "metadata": {
    "slideshow": {
     "slide_type": "fragment"
    }
   },
   "outputs": [
    {
     "name": "stdout",
     "output_type": "stream",
     "text": [
      "period              : Period(id=1, start_timestamp=0.0, end_timestamp=2705.267, attacking_direction=<AttackingDirection.NOT_SET: 'not-set'>)\n",
      "timestamp           : 24.687\n",
      "ball_owning_team    : Barcelona\n",
      "ball_state          : BallState.ALIVE\n",
      "event_id            : 126756d5-bfe3-44a7-a2c3-d36fb4d0a548\n",
      "team                : Deportivo Alavés\n",
      "player              : Víctor Laguardia Cisneros\n",
      "coordinates         : Point(x=35.5, y=68.5)\n",
      "result              : PassResult.INCOMPLETE\n",
      "state               : {}\n",
      "qualifiers          : []\n",
      "receive_timestamp   : 28.826\n",
      "receiver_player     : None\n",
      "receiver_coordinates: Point(x=107.5, y=54.5)\n",
      "event_type          : EventType.PASS\n",
      "event_name          : pass\n"
     ]
    }
   ],
   "source": [
    "import dataclasses\n",
    "\n",
    "def print_event(event):\n",
    "    for field in dataclasses.fields(event):\n",
    "        if field.name == 'raw_event':\n",
    "            continue\n",
    "        print(f\"{field.name: <20}: {str(getattr(event, field.name))}\")\n",
    "\n",
    "\n",
    "print_event(dataset.events[21])"
   ]
  },
  {
   "cell_type": "markdown",
   "metadata": {
    "slideshow": {
     "slide_type": "slide"
    }
   },
   "source": [
    "# Applying regular expressions to event data"
   ]
  },
  {
   "cell_type": "markdown",
   "metadata": {
    "slideshow": {
     "slide_type": "-"
    }
   },
   "source": [
    "<img src=\"assets/encode_event.png\" style=\"width: 80%\"/>"
   ]
  },
  {
   "cell_type": "markdown",
   "metadata": {
    "slideshow": {
     "slide_type": "subslide"
    }
   },
   "source": [
    "<img src=\"assets/encode_event2.png\" style=\"width: 80%\"/>"
   ]
  },
  {
   "cell_type": "markdown",
   "metadata": {
    "slideshow": {
     "slide_type": "subslide"
    }
   },
   "source": [
    "<img src=\"assets/encode_event3.png\" style=\"width: 80%\"/>"
   ]
  },
  {
   "cell_type": "markdown",
   "metadata": {
    "slideshow": {
     "slide_type": "slide"
    }
   },
   "source": [
    "# Encoder"
   ]
  },
  {
   "cell_type": "code",
   "execution_count": 8,
   "metadata": {
    "slideshow": {
     "slide_type": "fragment"
    }
   },
   "outputs": [],
   "source": [
    "def encoder(event: Event):\n",
    "    if event.event_name == 'pass':\n",
    "        return 'P'\n",
    "    elif event.event_name == 'shot':\n",
    "        return 'S'"
   ]
  },
  {
   "cell_type": "markdown",
   "metadata": {
    "slideshow": {
     "slide_type": "fragment"
    }
   },
   "source": [
    "```python\n",
    "encodede_str = \"PPPPPPPPPPPPPPPPPPPPPPPSPPPPPPPPPPPPPPPPPPPPPPPPPPPPPPPPP\"\n",
    "```"
   ]
  },
  {
   "cell_type": "markdown",
   "metadata": {
    "slideshow": {
     "slide_type": "slide"
    }
   },
   "source": [
    "# Searching"
   ]
  },
  {
   "cell_type": "code",
   "execution_count": 60,
   "metadata": {
    "slideshow": {
     "slide_type": "fragment"
    }
   },
   "outputs": [
    {
     "name": "stdout",
     "output_type": "stream",
     "text": [
      "search took: 4.09ms \n",
      "Results: 27\n",
      "\n"
     ]
    }
   ],
   "source": [
    "from kloppy.utils import performance_logging\n",
    "\n",
    "\n",
    "def encoder(event: Event):\n",
    "    if event.event_name == 'pass':\n",
    "        return 'P'\n",
    "    elif event.event_name == 'shot':\n",
    "        return 'S'\n",
    "    \n",
    "\n",
    "matcher = Matcher(encoder)\n",
    "\n",
    "with performance_logging(\"search\"):\n",
    "    results = matcher.search(dataset, pattern=\"PS\")\n",
    "\n",
    "print(f\"Results: {len(results)}\\n\")\n"
   ]
  },
  {
   "cell_type": "markdown",
   "metadata": {
    "slideshow": {
     "slide_type": "slide"
    }
   },
   "source": [
    "# The results"
   ]
  },
  {
   "cell_type": "code",
   "execution_count": 72,
   "metadata": {
    "slideshow": {
     "slide_type": "fragment"
    }
   },
   "outputs": [
    {
     "name": "stdout",
     "output_type": "stream",
     "text": [
      "                               event_id event_type    result  success  \\\n",
      "0  46ed1a0b-1800-4290-9bcf-817187a39ac4       PASS  COMPLETE     True   \n",
      "1  48f4bedb-4ced-4e97-a051-9e2fc6ac24e1       SHOT     SAVED    False   \n",
      "\n",
      "   period_id  timestamp  end_timestamp ball_state ball_owning_team team_id  \\\n",
      "0          1    209.675        210.529      alive              207     207   \n",
      "1          1    211.625            NaN      alive              207     207   \n",
      "\n",
      "  player_id  coordinates_x  coordinates_y  end_coordinates_x  \\\n",
      "0      6596         102.50          10.50              102.5   \n",
      "1      4367         100.95          20.85                NaN   \n",
      "\n",
      "   end_coordinates_y receiver_player_id  \n",
      "0               22.5               4367  \n",
      "1                NaN                NaN  \n"
     ]
    }
   ],
   "source": [
    "print(to_pandas(results[0]))"
   ]
  },
  {
   "cell_type": "markdown",
   "metadata": {
    "slideshow": {
     "slide_type": "slide"
    }
   },
   "source": [
    "# The results"
   ]
  },
  {
   "cell_type": "code",
   "execution_count": 123,
   "metadata": {},
   "outputs": [],
   "source": [
    "from kloppy import to_pandas\n",
    "\n",
    "import pandas as pd\n",
    "pd.set_option('display.max_colwidth', None)\n",
    "pd.set_option('display.max_columns', None)\n",
    "pd.set_option('display.max_rows', None)\n",
    "pd.set_option('display.width', 2000)\n",
    "\n",
    "def print_results(results, limit=100):\n",
    "    for i, result in enumerate(results[:limit]):\n",
    "        df = to_pandas(\n",
    "            result,\n",
    "            additional_columns={\n",
    "                'player_name': lambda event: event.player.full_name,\n",
    "                'team_name': lambda event: str(event.team),\n",
    "                'x': lambda event: event.coordinates.x,\n",
    "                'y': lambda event: event.coordinates.y\n",
    "            }\n",
    "        )\n",
    "        print(f\"Result {i}:\")\n",
    "        print(df[['timestamp', 'team_name', 'player_name', 'event_type', 'result', 'x', 'y']])\n",
    "        print(\"\")"
   ]
  },
  {
   "cell_type": "code",
   "execution_count": 124,
   "metadata": {
    "slideshow": {
     "slide_type": "slide"
    }
   },
   "outputs": [
    {
     "name": "stdout",
     "output_type": "stream",
     "text": [
      "Result 0:\n",
      "   timestamp  team_name               player_name event_type      result       x      y\n",
      "0   1838.147  Barcelona           Ousmane Dembélé       PASS    COMPLETE   97.50  10.50\n",
      "1   1839.479  Barcelona          Jordi Alba Ramos       PASS    COMPLETE   89.50  12.50\n",
      "2   1840.205  Barcelona  Luis Alberto Suárez Díaz       PASS    COMPLETE   88.50  26.50\n",
      "3   1842.287  Barcelona           Ousmane Dembélé       SHOT  OFF_TARGET  108.05  27.35\n",
      "\n",
      "Result 1:\n",
      "   timestamp  team_name                     player_name event_type    result      x      y\n",
      "0   2165.364  Barcelona                    Ivan Rakitić       PASS  COMPLETE  82.50  12.50\n",
      "1   2174.936  Barcelona  Lionel Andrés Messi Cuccittini       PASS      None  95.50  54.50\n",
      "2   2174.936  Barcelona  Lionel Andrés Messi Cuccittini       PASS      None  95.50  54.50\n",
      "3   2248.168  Barcelona  Lionel Andrés Messi Cuccittini       SHOT      POST  96.95  53.95\n",
      "\n",
      "Result 2:\n",
      "   timestamp  team_name                     player_name event_type    result       x      y\n",
      "0   2303.597  Barcelona          Sergi Roberto Carnicer       PASS  COMPLETE   55.50  36.50\n",
      "1   2304.657  Barcelona        Luis Alberto Suárez Díaz       PASS  COMPLETE   75.50  38.50\n",
      "2   2305.600  Barcelona  Lionel Andrés Messi Cuccittini       PASS  COMPLETE   77.50  41.50\n",
      "3   2308.083  Barcelona                 Ousmane Dembélé       SHOT     SAVED  102.45  29.15\n",
      "\n",
      "Result 3:\n",
      "   timestamp  team_name                     player_name event_type    result       x      y\n",
      "0    149.781  Barcelona                    Ivan Rakitić       PASS  COMPLETE   94.50  63.50\n",
      "1    154.700  Barcelona  Lionel Andrés Messi Cuccittini       PASS  COMPLETE   89.50  42.50\n",
      "2    156.575  Barcelona                 Ousmane Dembélé       PASS  COMPLETE   99.50  30.50\n",
      "3    159.524  Barcelona                Jordi Alba Ramos       SHOT     SAVED  116.85  31.15\n",
      "\n",
      "Result 4:\n",
      "   timestamp  team_name                     player_name event_type      result       x      y\n",
      "0   1014.726  Barcelona          Sergi Roberto Carnicer       PASS    COMPLETE   95.50  75.50\n",
      "1   1016.870  Barcelona       Philippe Coutinho Correia       PASS  INCOMPLETE  111.50  61.50\n",
      "2   1018.492  Barcelona                    Ivan Rakitić       PASS    COMPLETE   94.50  59.50\n",
      "3   1091.954  Barcelona  Lionel Andrés Messi Cuccittini       SHOT        GOAL   96.05  45.05\n",
      "\n",
      "Result 5:\n",
      "   timestamp  team_name                             player_name event_type    result       x      y\n",
      "0   2254.058  Barcelona                  Sergi Roberto Carnicer       PASS  COMPLETE   90.50  67.50\n",
      "1   2255.073  Barcelona                Sergio Busquets i Burgos       PASS  COMPLETE   81.50  51.50\n",
      "2   2257.255  Barcelona  Arthur Henrique Ramos de Oliveira Melo       PASS  COMPLETE   85.50  34.50\n",
      "3   2261.578  Barcelona               Philippe Coutinho Correia       SHOT      GOAL  105.05  31.05\n",
      "\n",
      "Result 6:\n",
      "   timestamp  team_name                             player_name event_type    result       x      y\n",
      "0   2656.409  Barcelona  Arthur Henrique Ramos de Oliveira Melo       PASS  COMPLETE   93.50  58.50\n",
      "1   2658.435  Barcelona                   Gerard Piqué Bernabéu       PASS  COMPLETE   86.50  70.50\n",
      "2   2659.241  Barcelona                  Sergi Roberto Carnicer       PASS  COMPLETE   98.50  59.50\n",
      "3   2662.638  Barcelona          Lionel Andrés Messi Cuccittini       SHOT     SAVED  106.05  46.05\n",
      "\n",
      "Result 7:\n",
      "   timestamp  team_name                     player_name event_type    result       x      y\n",
      "0   2791.395  Barcelona                    Ivan Rakitić       PASS  COMPLETE   63.50  54.50\n",
      "1   2795.127  Barcelona                Jordi Alba Ramos       PASS  COMPLETE   91.50   5.50\n",
      "2   2798.906  Barcelona        Luis Alberto Suárez Díaz       PASS  COMPLETE   83.50  27.50\n",
      "3   2802.770  Barcelona  Lionel Andrés Messi Cuccittini       SHOT      GOAL  111.95  34.55\n",
      "\n"
     ]
    }
   ],
   "source": [
    "print_results(results)"
   ]
  },
  {
   "cell_type": "code",
   "execution_count": 61,
   "metadata": {
    "slideshow": {
     "slide_type": "subslide"
    }
   },
   "outputs": [
    {
     "name": "stdout",
     "output_type": "stream",
     "text": [
      "Result 0:\n",
      "   timestamp         team_name                     player_name event_type    result\n",
      "0    924.984  Deportivo Alavés            Rubén Duarte Sánchez       PASS  COMPLETE\n",
      "1    928.625         Barcelona  Lionel Andrés Messi Cuccittini       SHOT     SAVED\n",
      "\n",
      "Result 0:\n",
      "   timestamp         team_name            player_name event_type      result\n",
      "0    365.421         Barcelona  Gerard Piqué Bernabéu       PASS  INCOMPLETE\n",
      "1    367.400  Deportivo Alavés         Mubarak Wakaso       SHOT     BLOCKED\n",
      "\n",
      "Result 0:\n",
      "   timestamp         team_name               player_name event_type      result\n",
      "0   1644.990  Deportivo Alavés        Jorge Franco Alviz       PASS  INCOMPLETE\n",
      "1   1647.492         Barcelona  Luis Alberto Suárez Díaz       SHOT       SAVED\n",
      "\n"
     ]
    }
   ],
   "source": [
    "print_results(results[2:3])\n",
    "print_results(results[12:13])\n",
    "print_results(results[21:22])"
   ]
  },
  {
   "cell_type": "markdown",
   "metadata": {
    "slideshow": {
     "slide_type": "slide"
    }
   },
   "source": [
    "# Add teams"
   ]
  },
  {
   "cell_type": "code",
   "execution_count": 72,
   "metadata": {
    "slideshow": {
     "slide_type": "fragment"
    }
   },
   "outputs": [],
   "source": [
    "from kloppy.domain import Ground\n",
    "\n",
    "def encoder_with_team(event: Event):\n",
    "    if event.event_name == 'pass':\n",
    "        encoded_str = 'P'\n",
    "    elif event.event_name == 'shot':\n",
    "        encoded_str = 'S'\n",
    "    else:\n",
    "        return None\n",
    "    \n",
    "    encoded_str += 'H' if event.team.ground == Ground.HOME else 'A'\n",
    "    \n",
    "    return encoded_str\n",
    "\n",
    "    \n",
    "\n",
    "matcher_with_team = Matcher(encoder_with_team)"
   ]
  },
  {
   "cell_type": "code",
   "execution_count": 73,
   "metadata": {
    "slideshow": {
     "slide_type": "subslide"
    }
   },
   "outputs": [
    {
     "name": "stdout",
     "output_type": "stream",
     "text": [
      "search took: 4.87ms \n",
      "Result 0:\n",
      "   timestamp  team_name                     player_name event_type      result\n",
      "0    144.126  Barcelona                    Ivan Rakitić       PASS    COMPLETE\n",
      "1    149.094  Barcelona  Lionel Andrés Messi Cuccittini       SHOT  OFF_TARGET\n",
      "\n",
      "Result 1:\n",
      "   timestamp  team_name                     player_name event_type      result\n",
      "0    337.369  Barcelona  Lionel Andrés Messi Cuccittini       PASS    COMPLETE\n",
      "1    339.239  Barcelona                Jordi Alba Ramos       SHOT  OFF_TARGET\n",
      "\n",
      "Result 2:\n",
      "   timestamp         team_name                      player_name event_type      result\n",
      "0    978.568  Deportivo Alavés  Manuel Alejandro García Sánchez       PASS    COMPLETE\n",
      "1    979.616  Deportivo Alavés            Rubén Sobrino Pozuelo       SHOT  OFF_TARGET\n",
      "\n",
      "Result 3:\n",
      "   timestamp  team_name               player_name event_type      result\n",
      "0   1091.428  Barcelona           Ousmane Dembélé       PASS  INCOMPLETE\n",
      "1   1095.914  Barcelona  Luis Alberto Suárez Díaz       SHOT  OFF_TARGET\n",
      "\n",
      "Result 4:\n",
      "   timestamp  team_name               player_name event_type      result\n",
      "0   1840.205  Barcelona  Luis Alberto Suárez Díaz       PASS    COMPLETE\n",
      "1   1842.287  Barcelona           Ousmane Dembélé       SHOT  OFF_TARGET\n",
      "\n",
      "Result 5:\n",
      "   timestamp  team_name                     player_name event_type      result\n",
      "0   2103.972  Barcelona  Lionel Andrés Messi Cuccittini       PASS    COMPLETE\n",
      "1   2104.861  Barcelona                    Ivan Rakitić       SHOT  OFF_TARGET\n",
      "\n",
      "Result 6:\n",
      "   timestamp  team_name                     player_name event_type result\n",
      "0   2174.936  Barcelona  Lionel Andrés Messi Cuccittini       PASS   None\n",
      "1   2248.168  Barcelona  Lionel Andrés Messi Cuccittini       SHOT   POST\n",
      "\n",
      "Result 7:\n",
      "   timestamp  team_name                     player_name event_type    result\n",
      "0   2305.600  Barcelona  Lionel Andrés Messi Cuccittini       PASS  COMPLETE\n",
      "1   2308.083  Barcelona                 Ousmane Dembélé       SHOT     SAVED\n",
      "\n",
      "Result 8:\n",
      "   timestamp  team_name               player_name event_type      result\n",
      "0   2431.179  Barcelona          Jordi Alba Ramos       PASS    COMPLETE\n",
      "1   2434.592  Barcelona  Luis Alberto Suárez Díaz       SHOT  OFF_TARGET\n",
      "\n",
      "Result 9:\n",
      "   timestamp  team_name       player_name event_type      result\n",
      "0   2610.041  Barcelona  Jordi Alba Ramos       PASS    COMPLETE\n",
      "1   2610.612  Barcelona   Ousmane Dembélé       SHOT  OFF_TARGET\n",
      "\n",
      "Result 10:\n",
      "   timestamp  team_name       player_name event_type    result\n",
      "0    156.575  Barcelona   Ousmane Dembélé       PASS  COMPLETE\n",
      "1    159.524  Barcelona  Jordi Alba Ramos       SHOT     SAVED\n",
      "\n",
      "Result 11:\n",
      "   timestamp  team_name               player_name event_type      result\n",
      "0    527.828  Barcelona          Jordi Alba Ramos       PASS  INCOMPLETE\n",
      "1    534.355  Barcelona  Luis Alberto Suárez Díaz       SHOT     BLOCKED\n",
      "\n",
      "Result 12:\n",
      "   timestamp  team_name                player_name event_type    result\n",
      "0    593.181  Barcelona           Jordi Alba Ramos       PASS  COMPLETE\n",
      "1    596.388  Barcelona  Philippe Coutinho Correia       SHOT   BLOCKED\n",
      "\n",
      "Result 13:\n",
      "   timestamp  team_name       player_name event_type    result\n",
      "0    633.054  Barcelona   Ousmane Dembélé       PASS  COMPLETE\n",
      "1    634.490  Barcelona  Jordi Alba Ramos       SHOT   BLOCKED\n",
      "\n",
      "Result 14:\n",
      "   timestamp  team_name                     player_name event_type      result\n",
      "0    738.448  Barcelona       Philippe Coutinho Correia       PASS    COMPLETE\n",
      "1    740.847  Barcelona  Lionel Andrés Messi Cuccittini       SHOT  OFF_TARGET\n",
      "\n",
      "Result 15:\n",
      "   timestamp  team_name                player_name event_type    result\n",
      "0    932.676  Barcelona  Philippe Coutinho Correia       PASS  COMPLETE\n",
      "1    936.156  Barcelona  Philippe Coutinho Correia       SHOT   BLOCKED\n",
      "\n",
      "Result 16:\n",
      "   timestamp  team_name                     player_name event_type    result\n",
      "0   1018.492  Barcelona                    Ivan Rakitić       PASS  COMPLETE\n",
      "1   1091.954  Barcelona  Lionel Andrés Messi Cuccittini       SHOT      GOAL\n",
      "\n",
      "Result 17:\n",
      "   timestamp  team_name                     player_name event_type    result\n",
      "0   1240.630  Barcelona        Luis Alberto Suárez Díaz       PASS  COMPLETE\n",
      "1   1243.588  Barcelona  Lionel Andrés Messi Cuccittini       SHOT      POST\n",
      "\n",
      "Result 18:\n",
      "   timestamp  team_name         player_name event_type    result\n",
      "0   1403.314  Barcelona  Samuel Yves Umtiti       PASS  COMPLETE\n",
      "1   1413.375  Barcelona        Ivan Rakitić       SHOT   BLOCKED\n",
      "\n",
      "Result 19:\n",
      "   timestamp         team_name         player_name event_type      result\n",
      "0   1995.725  Deportivo Alavés    Ibai Gómez Pérez       PASS    COMPLETE\n",
      "1   1997.679  Deportivo Alavés  Adrián Marín Gómez       SHOT  OFF_TARGET\n",
      "\n",
      "Result 20:\n",
      "   timestamp  team_name                     player_name event_type    result\n",
      "0   2189.648  Barcelona  Lionel Andrés Messi Cuccittini       PASS  COMPLETE\n",
      "1   2191.606  Barcelona       Philippe Coutinho Correia       SHOT     SAVED\n",
      "\n",
      "Result 21:\n",
      "   timestamp  team_name                             player_name event_type    result\n",
      "0   2257.255  Barcelona  Arthur Henrique Ramos de Oliveira Melo       PASS  COMPLETE\n",
      "1   2261.578  Barcelona               Philippe Coutinho Correia       SHOT      GOAL\n",
      "\n",
      "Result 22:\n",
      "   timestamp  team_name                     player_name event_type    result\n",
      "0   2659.241  Barcelona          Sergi Roberto Carnicer       PASS  COMPLETE\n",
      "1   2662.638  Barcelona  Lionel Andrés Messi Cuccittini       SHOT     SAVED\n",
      "\n",
      "Result 23:\n",
      "   timestamp  team_name                     player_name event_type    result\n",
      "0   2798.906  Barcelona        Luis Alberto Suárez Díaz       PASS  COMPLETE\n",
      "1   2802.770  Barcelona  Lionel Andrés Messi Cuccittini       SHOT      GOAL\n",
      "\n"
     ]
    }
   ],
   "source": [
    "with performance_logging(\"search\"):\n",
    "    results = matcher_with_team.search(dataset, pattern=r\"P([AH])S(\\1)\")\n",
    "    \n",
    "print_results(results)"
   ]
  },
  {
   "cell_type": "code",
   "execution_count": 74,
   "metadata": {
    "slideshow": {
     "slide_type": "subslide"
    }
   },
   "outputs": [
    {
     "name": "stdout",
     "output_type": "stream",
     "text": [
      "search took: 4.01ms \n",
      "Result 0:\n",
      "   timestamp         team_name                     player_name event_type    result\n",
      "0    924.984  Deportivo Alavés            Rubén Duarte Sánchez       PASS  COMPLETE\n",
      "1    928.625         Barcelona  Lionel Andrés Messi Cuccittini       SHOT     SAVED\n",
      "\n",
      "Result 1:\n",
      "   timestamp         team_name            player_name event_type      result\n",
      "0    365.421         Barcelona  Gerard Piqué Bernabéu       PASS  INCOMPLETE\n",
      "1    367.400  Deportivo Alavés         Mubarak Wakaso       SHOT     BLOCKED\n",
      "\n",
      "Result 2:\n",
      "   timestamp         team_name               player_name event_type      result\n",
      "0   1644.990  Deportivo Alavés        Jorge Franco Alviz       PASS  INCOMPLETE\n",
      "1   1647.492         Barcelona  Luis Alberto Suárez Díaz       SHOT       SAVED\n",
      "\n"
     ]
    }
   ],
   "source": [
    "with performance_logging(\"search\"):\n",
    "    results = matcher_with_team.search(dataset, pattern=r\"P([AH])S(?!\\1)\")\n",
    "    \n",
    "print_results(results)"
   ]
  },
  {
   "cell_type": "markdown",
   "metadata": {
    "slideshow": {
     "slide_type": "slide"
    }
   },
   "source": [
    "# Add zones"
   ]
  },
  {
   "cell_type": "markdown",
   "metadata": {
    "slideshow": {
     "slide_type": "subslide"
    }
   },
   "source": [
    "<img src=\"assets/pitch.png\" style=\"width: 70%; margin: auto\"/>"
   ]
  },
  {
   "cell_type": "markdown",
   "metadata": {
    "slideshow": {
     "slide_type": "subslide"
    }
   },
   "source": [
    "<img src=\"assets/pitch2.png?2\" style=\"width: 70%; margin: auto\"/>"
   ]
  },
  {
   "cell_type": "code",
   "execution_count": 186,
   "metadata": {
    "slideshow": {
     "slide_type": "subslide"
    }
   },
   "outputs": [],
   "source": [
    "zones = {\n",
    "    1: ((50, 0), (120, 18)),\n",
    "    2: ((50, 18), (102, 32)),\n",
    "    3: ((50, 32), (102, 48)),\n",
    "    4: ((50, 48), (102, 62)),\n",
    "    5: ((50, 62), (120, 80)),\n",
    "    6: ((102, 18), (120, 62)),\n",
    "    7: ((0, 0), (60, 80))\n",
    "}"
   ]
  },
  {
   "cell_type": "code",
   "execution_count": 185,
   "metadata": {
    "slideshow": {
     "slide_type": "slide"
    }
   },
   "outputs": [],
   "source": [
    "def encoder_with_zone(event: Event):\n",
    "    if event.event_name == 'pass':\n",
    "        encoded_str = 'P'\n",
    "    elif event.event_name == 'shot':\n",
    "        encoded_str = 'S'\n",
    "    else:\n",
    "        return None\n",
    "    \n",
    "    encoded_str += 'H' if event.team.ground == Ground.HOME else 'A'\n",
    "\n",
    "    zone_id = None\n",
    "    for zone_id_, ((topleft_x, topleft_y), (bottomright_x, bottomright_y)) in zones.items():\n",
    "        if topleft_x <= event.coordinates.x < bottomright_x and \\\n",
    "            topleft_y <= event.coordinates.y < bottomright_y:\n",
    "            zone_id = zone_id_\n",
    "            break\n",
    "                    \n",
    "    if not zone_id:\n",
    "        return None\n",
    "    \n",
    "    encoded_str += str(zone_id)\n",
    "    \n",
    "    return encoded_str\n",
    "\n",
    "    \n",
    "\n",
    "matcher_with_zone = Matcher(encoder_with_zone)"
   ]
  },
  {
   "cell_type": "code",
   "execution_count": 216,
   "metadata": {
    "slideshow": {
     "slide_type": "slide"
    }
   },
   "outputs": [
    {
     "name": "stdout",
     "output_type": "stream",
     "text": [
      "search took: 7.94ms \n",
      "Result 0:\n",
      "   timestamp  team_name               player_name event_type      result       x      y\n",
      "0   2431.179  Barcelona          Jordi Alba Ramos       PASS    COMPLETE   60.50   3.50\n",
      "1   2434.592  Barcelona  Luis Alberto Suárez Díaz       SHOT  OFF_TARGET  109.25  29.65\n",
      "\n",
      "Result 1:\n",
      "   timestamp  team_name                player_name event_type    result       x      y\n",
      "0    588.139  Barcelona  Philippe Coutinho Correia       PASS  COMPLETE   76.50  15.50\n",
      "1    593.181  Barcelona           Jordi Alba Ramos       PASS  COMPLETE  111.50  13.50\n",
      "2    596.388  Barcelona  Philippe Coutinho Correia       SHOT   BLOCKED   94.35  24.45\n",
      "\n",
      "Result 2:\n",
      "   timestamp  team_name                player_name event_type    result       x      y\n",
      "0    925.128  Barcelona           Jordi Alba Ramos       PASS  COMPLETE   66.50  13.50\n",
      "1    927.669  Barcelona            Ousmane Dembélé       PASS  COMPLETE   82.50   7.50\n",
      "2    930.049  Barcelona           Jordi Alba Ramos       PASS  COMPLETE   76.50  12.50\n",
      "3    932.676  Barcelona  Philippe Coutinho Correia       PASS  COMPLETE   94.50  11.50\n",
      "4    936.156  Barcelona  Philippe Coutinho Correia       SHOT   BLOCKED  100.15  27.65\n",
      "\n"
     ]
    }
   ],
   "source": [
    "with performance_logging(\"search\"):\n",
    "    results = matcher_with_zone.search(dataset, pattern=r\"(PH1)+SH\")\n",
    "    \n",
    "print_results(results)"
   ]
  },
  {
   "cell_type": "code",
   "execution_count": 127,
   "metadata": {
    "slideshow": {
     "slide_type": "subslide"
    }
   },
   "outputs": [
    {
     "name": "stdout",
     "output_type": "stream",
     "text": [
      "search took: 7.12ms \n",
      "Result 0:\n",
      "   timestamp  team_name               player_name event_type      result       x      y\n",
      "0   1838.147  Barcelona           Ousmane Dembélé       PASS    COMPLETE   97.50  10.50\n",
      "1   1839.479  Barcelona          Jordi Alba Ramos       PASS    COMPLETE   89.50  12.50\n",
      "2   1840.205  Barcelona  Luis Alberto Suárez Díaz       PASS    COMPLETE   88.50  26.50\n",
      "3   1842.287  Barcelona           Ousmane Dembélé       SHOT  OFF_TARGET  108.05  27.35\n",
      "\n",
      "Result 1:\n",
      "   timestamp  team_name                     player_name event_type    result       x      y\n",
      "0   2303.597  Barcelona          Sergi Roberto Carnicer       PASS  COMPLETE   55.50  36.50\n",
      "1   2304.657  Barcelona        Luis Alberto Suárez Díaz       PASS  COMPLETE   75.50  38.50\n",
      "2   2305.600  Barcelona  Lionel Andrés Messi Cuccittini       PASS  COMPLETE   77.50  41.50\n",
      "3   2308.083  Barcelona                 Ousmane Dembélé       SHOT     SAVED  102.45  29.15\n",
      "\n",
      "Result 2:\n",
      "   timestamp  team_name                     player_name event_type    result       x      y\n",
      "0    149.781  Barcelona                    Ivan Rakitić       PASS  COMPLETE   94.50  63.50\n",
      "1    154.700  Barcelona  Lionel Andrés Messi Cuccittini       PASS  COMPLETE   89.50  42.50\n",
      "2    156.575  Barcelona                 Ousmane Dembélé       PASS  COMPLETE   99.50  30.50\n",
      "3    159.524  Barcelona                Jordi Alba Ramos       SHOT     SAVED  116.85  31.15\n",
      "\n",
      "Result 3:\n",
      "   timestamp  team_name                             player_name event_type    result       x      y\n",
      "0   2254.058  Barcelona                  Sergi Roberto Carnicer       PASS  COMPLETE   90.50  67.50\n",
      "1   2255.073  Barcelona                Sergio Busquets i Burgos       PASS  COMPLETE   81.50  51.50\n",
      "2   2257.255  Barcelona  Arthur Henrique Ramos de Oliveira Melo       PASS  COMPLETE   85.50  34.50\n",
      "3   2261.578  Barcelona               Philippe Coutinho Correia       SHOT      GOAL  105.05  31.05\n",
      "\n",
      "Result 4:\n",
      "   timestamp  team_name                             player_name event_type    result       x      y\n",
      "0   2656.409  Barcelona  Arthur Henrique Ramos de Oliveira Melo       PASS  COMPLETE   93.50  58.50\n",
      "1   2658.435  Barcelona                   Gerard Piqué Bernabéu       PASS  COMPLETE   86.50  70.50\n",
      "2   2659.241  Barcelona                  Sergi Roberto Carnicer       PASS  COMPLETE   98.50  59.50\n",
      "3   2662.638  Barcelona          Lionel Andrés Messi Cuccittini       SHOT     SAVED  106.05  46.05\n",
      "\n",
      "Result 5:\n",
      "   timestamp  team_name                     player_name event_type    result       x      y\n",
      "0   2791.395  Barcelona                    Ivan Rakitić       PASS  COMPLETE   63.50  54.50\n",
      "1   2795.127  Barcelona                Jordi Alba Ramos       PASS  COMPLETE   91.50   5.50\n",
      "2   2798.906  Barcelona        Luis Alberto Suárez Díaz       PASS  COMPLETE   83.50  27.50\n",
      "3   2802.770  Barcelona  Lionel Andrés Messi Cuccittini       SHOT      GOAL  111.95  34.55\n",
      "\n"
     ]
    }
   ],
   "source": [
    "with performance_logging(\"search\"):\n",
    "#    results = matcher_with_team.search(dataset, pattern=r\"PH[234](PH[15])+SH\")\n",
    "    results = matcher_with_zone.search(dataset, pattern=r\"(PH.){1,2}PH[234]SH6\")\n",
    "    \n",
    "print_results(results)"
   ]
  },
  {
   "cell_type": "markdown",
   "metadata": {
    "slideshow": {
     "slide_type": "slide"
    }
   },
   "source": [
    "# Plotting the results"
   ]
  },
  {
   "cell_type": "code",
   "execution_count": 130,
   "metadata": {
    "slideshow": {
     "slide_type": "subslide"
    }
   },
   "outputs": [],
   "source": [
    "from mplsoccer.pitch import Pitch\n",
    "\n",
    "\n",
    "\n",
    "def plot_results(results):\n",
    "    pitch = Pitch(pitch_type='statsbomb', orientation='horizontal',\n",
    "              pitch_color='#22312b', line_color='#c7d5cc', figsize=(16, 11),\n",
    "              constrained_layout=True, tight_layout=False)\n",
    "    \n",
    "    fig, ax = pitch.draw()\n",
    "\n",
    "    passes = []\n",
    "    for result in results:\n",
    "        for i in range(len(result) - 1):\n",
    "            passes.append((\n",
    "                result[i].coordinates.x,\n",
    "                result[i].coordinates.y,\n",
    "                result[i + 1].coordinates.x,\n",
    "                result[i + 1].coordinates.y\n",
    "            ))\n",
    "            \n",
    "    x1, y1, x2, y2 = zip(*passes)\n",
    "\n",
    "    pitch.arrows(x1, y1, x2, y2, width=2,\n",
    "             headwidth=10, headlength=10, color='#ad993c', ax=ax, label='completed passes')\n",
    "        \n"
   ]
  },
  {
   "cell_type": "code",
   "execution_count": 218,
   "metadata": {
    "slideshow": {
     "slide_type": "subslide"
    }
   },
   "outputs": [
    {
     "data": {
      "image/png": "[encoded data removed]",
      "text/plain": [
       "<Figure size 1152x792 with 1 Axes>"
      ]
     },
     "metadata": {},
     "output_type": "display_data"
    }
   ],
   "source": [
    "plot_results(results)"
   ]
  },
  {
   "cell_type": "markdown",
   "metadata": {
    "slideshow": {
     "slide_type": "slide"
    }
   },
   "source": [
    "# Playing around with the plot"
   ]
  },
  {
   "cell_type": "code",
   "execution_count": 228,
   "metadata": {
    "slideshow": {
     "slide_type": "subslide"
    }
   },
   "outputs": [
    {
     "data": {
      "image/png": "[encoded data removed]",
      "text/plain": [
       "<Figure size 1152x792 with 1 Axes>"
      ]
     },
     "metadata": {},
     "output_type": "display_data"
    }
   ],
   "source": [
    "results = matcher_with_zone.search(\n",
    "    dataset, \n",
    "    pattern=r\"PH[15]PH[234]SH6\"\n",
    ")  \n",
    "plot_results(results)"
   ]
  },
  {
   "cell_type": "markdown",
   "metadata": {
    "slideshow": {
     "slide_type": "slide"
    }
   },
   "source": [
    "# Thanks for watching\n",
    "\n",
    "Find us:\n",
    "- twitter https://twitter.com/PySportOrg\n",
    "- discord: https://t.co/oRtc3ZBrDh\n",
    "- github: https://github.com/PySport\n",
    "- docs: https://kloppy.pysport.org"
   ]
  }
 ],
 "metadata": {
  "celltoolbar": "Slideshow",
  "kernelspec": {
   "display_name": "Python 3",
   "language": "python",
   "name": "python3"
  },
  "language_info": {
   "codemirror_mode": {
    "name": "ipython",
    "version": 3
   },
   "file_extension": ".py",
   "mimetype": "text/x-python",
   "name": "python",
   "nbconvert_exporter": "python",
   "pygments_lexer": "ipython3",
   "version": "3.8.6"
  }
 },
 "nbformat": 4,
 "nbformat_minor": 4
}
