{
 "cells": [
  {
   "cell_type": "markdown",
   "id": "0ffce355",
   "metadata": {
    "slideshow": {
     "slide_type": "slide"
    }
   },
   "source": [
    "\n",
    "\n",
    "<div style=\" text-align: center\">\n",
    "\n",
    "<div style=\"margin-bottom: -20px\">\n",
    "    <img style=\"display: inline; width: 200px\" src=\"https://www.saashub.com/images/app/service_logos/239/26gdror9vj3e/medium.png?1679110815\" />\n",
    "&nbsp;&nbsp;  <span style=\"font-weight: 100\">x</span>  &nbsp;&nbsp;&nbsp;&nbsp;\n",
    "    <img style=\"display: inline; width: 200px\" src=\"https://raw.githubusercontent.com/PySport/kloppy/master/docs/logo.png\" />\n",
    "        </div>\n",
    "<!--     <h1>Kloppy <span style=\"font-weight: 100\">x</span> DuckDB</h1> -->\n",
    "    <br />\n",
    "        <h6 style=\"width: 800px; margin: auto\">Unlocking Valuable Sports Insights: Analyzing SportsCode XML Files with DuckDB and Kloppy</h6>\n",
    "    <br />\n",
    "    <span style=\"font-size: 20px\">Koen Vossen - PySport Meetup Eindhoven - April 2023</span>\n",
    "    </div>\n",
    "\n",
    "\n",
    "\n",
    "\n"
   ]
  },
  {
   "cell_type": "markdown",
   "id": "ba2c5b7a",
   "metadata": {
    "slideshow": {
     "slide_type": "slide"
    }
   },
   "source": [
    "## Content\n",
    "\n",
    "- Introduction\n",
    "- DuckDB\n",
    "- Kloppy\n",
    "- Code\n",
    "- Conclusion"
   ]
  },
  {
   "cell_type": "markdown",
   "id": "df466f97",
   "metadata": {
    "slideshow": {
     "slide_type": "slide"
    }
   },
   "source": [
    "# Introduction\n",
    "\n",
    "- founder TeamTV\n",
    "- korfbal coach\n",
    "- founder PySport"
   ]
  },
  {
   "cell_type": "markdown",
   "id": "87376b7c",
   "metadata": {
    "slideshow": {
     "slide_type": "slide"
    }
   },
   "source": [
    "# DuckDB\n",
    "\n",
    "DuckDB is an in-process SQL OLAP database management system"
   ]
  },
  {
   "cell_type": "markdown",
   "id": "cccf5445",
   "metadata": {
    "slideshow": {
     "slide_type": "subslide"
    }
   },
   "source": [
    "<img src=\"duckdb.png\" style=\"width: 50%; margin: auto\" />"
   ]
  },
  {
   "cell_type": "markdown",
   "id": "d693999a",
   "metadata": {
    "slideshow": {
     "slide_type": "subslide"
    }
   },
   "source": [
    "# In-process database vs External database"
   ]
  },
  {
   "cell_type": "markdown",
   "id": "e86f1f9c",
   "metadata": {
    "slideshow": {
     "slide_type": "subslide"
    }
   },
   "source": [
    "<img src=\"duckdb2.png?t=3\" style=\"width: 90%; margin: auto\" />"
   ]
  },
  {
   "cell_type": "markdown",
   "id": "08201644",
   "metadata": {
    "slideshow": {
     "slide_type": "subslide"
    }
   },
   "source": [
    "# In-process database: SQLite vs DuckDB"
   ]
  },
  {
   "cell_type": "markdown",
   "id": "a157be90",
   "metadata": {
    "slideshow": {
     "slide_type": "subslide"
    }
   },
   "source": [
    "<img src=\"sqlite-duckdb.png\" style=\"width: 90%; margin: auto\" />"
   ]
  },
  {
   "cell_type": "markdown",
   "id": "061dda64",
   "metadata": {
    "slideshow": {
     "slide_type": "slide"
    }
   },
   "source": [
    "# Kloppy\n",
    "\n",
    "Standardizing soccer tracking and event data"
   ]
  },
  {
   "cell_type": "markdown",
   "id": "419ba259",
   "metadata": {
    "slideshow": {
     "slide_type": "subslide"
    }
   },
   "source": [
    "#### Loading data\n",
    "- Load **public datasets** to get started right away\n",
    "- Understandable **standardized data models** for tracking and event data\n",
    "- Out-of-the-box **(de)serializing** tracking and event data from different vendors into standardized models and vice versa"
   ]
  },
  {
   "cell_type": "markdown",
   "id": "f5af1c93",
   "metadata": {
    "slideshow": {
     "slide_type": "fragment"
    }
   },
   "source": [
    "#### Processing data\n",
    "- Flexibly transform a dataset's **pitch dimensions** from one format to another (e.g., from OPTA's 100x100 to TRACAB meters)\n",
    "- Transform the **orientation** of a dataset (e.g., from TRACAB fixed orientation to \"Home Team\" orientation)"
   ]
  },
  {
   "cell_type": "markdown",
   "id": "47844555",
   "metadata": {
    "slideshow": {
     "slide_type": "slide"
    }
   },
   "source": [
    "<img src=\"data-logger.jpeg\" style=\"width: 80%; margin: auto\" />"
   ]
  },
  {
   "cell_type": "markdown",
   "id": "e8ddbc71",
   "metadata": {
    "slideshow": {
     "slide_type": "slide"
    }
   },
   "source": [
    "<img src=\"what-kloppy-does.png\" style=\"width: 100%; margin: auto\" />"
   ]
  },
  {
   "cell_type": "markdown",
   "id": "def601ad",
   "metadata": {
    "slideshow": {
     "slide_type": "slide"
    }
   },
   "source": [
    "<img src=\"shapes.png\" style=\"width: 100%; margin: auto\" />"
   ]
  },
  {
   "cell_type": "markdown",
   "id": "41bd4669",
   "metadata": {
    "slideshow": {
     "slide_type": "slide"
    }
   },
   "source": [
    "# Code\n",
    "\n"
   ]
  },
  {
   "cell_type": "code",
   "execution_count": null,
   "id": "dd7b4299",
   "metadata": {
    "slideshow": {
     "slide_type": "fragment"
    }
   },
   "outputs": [],
   "source": [
    "%pip install kloppy"
   ]
  },
  {
   "cell_type": "code",
   "execution_count": null,
   "id": "3a267bb5",
   "metadata": {
    "slideshow": {
     "slide_type": "slide"
    }
   },
   "outputs": [],
   "source": [
    "# Import sportscode deserializer\n",
    "from kloppy import sportscode"
   ]
  },
  {
   "cell_type": "code",
   "execution_count": null,
   "id": "9408def6",
   "metadata": {
    "slideshow": {
     "slide_type": "fragment"
    }
   },
   "outputs": [],
   "source": [
    "# Load the XML file into a kloppy dataset\n",
    "dataset = sportscode.load(\"files/DBO - OR 2 (1).xml\")\n"
   ]
  },
  {
   "cell_type": "code",
   "execution_count": null,
   "id": "fd99cf67",
   "metadata": {
    "slideshow": {
     "slide_type": "fragment"
    }
   },
   "outputs": [],
   "source": [
    "# Show all records within the dataset\n",
    "for record in dataset:\n",
    "    print(f\"{record.code} - {record.period.id} - {record.timestamp}\")"
   ]
  },
  {
   "cell_type": "markdown",
   "id": "dc515631",
   "metadata": {
    "slideshow": {
     "slide_type": "slide"
    }
   },
   "source": [
    "# Lets do some pre processing"
   ]
  },
  {
   "cell_type": "code",
   "execution_count": null,
   "id": "eb94a4da",
   "metadata": {
    "slideshow": {
     "slide_type": "subslide"
    }
   },
   "outputs": [],
   "source": [
    "from kloppy.domain import Period\n",
    "dataset = sportscode.load(\"files/DBO - OR 2 (1).xml\")\n",
    "\n",
    "period = None\n",
    "for record in dataset.records:\n",
    "    if record.code == 'Start':\n",
    "        if period:\n",
    "            # End current period\n",
    "            period.end_timestamp = record.timestamp - 0.001\n",
    "            \n",
    "        period = Period(\n",
    "            id=period.id + 1 if period else 1,\n",
    "            start_timestamp=record.timestamp,\n",
    "            end_timestamp=None\n",
    "        )\n",
    "        \n",
    "    if not period:\n",
    "        # Data before first 'Period marker'\n",
    "        continue\n",
    "\n",
    "    record.period = period\n",
    "    record.timestamp -= period.start_timestamp"
   ]
  },
  {
   "cell_type": "code",
   "execution_count": null,
   "id": "8136bc69",
   "metadata": {
    "slideshow": {
     "slide_type": "subslide"
    }
   },
   "outputs": [],
   "source": [
    "for record in dataset:\n",
    "    print(f\"{record.code} - {record.period.id} - {record.timestamp}\")"
   ]
  },
  {
   "cell_type": "markdown",
   "id": "28097963",
   "metadata": {
    "slideshow": {
     "slide_type": "slide"
    }
   },
   "source": [
    "# Lets do some data cleaning"
   ]
  },
  {
   "cell_type": "code",
   "execution_count": null,
   "id": "daab2016",
   "metadata": {
    "slideshow": {
     "slide_type": "subslide"
    }
   },
   "outputs": [],
   "source": [
    "PLAYERS = [\n",
    "    \"Gijs\", \"Jamie\", \"Sander\", \"Jelle\", \"Sheldon\", \"Phil\"\n",
    "]\n",
    "\n",
    "players_dataset = dataset.filter(lambda item: item.code in PLAYERS)"
   ]
  },
  {
   "cell_type": "code",
   "execution_count": null,
   "id": "9a28ff3b",
   "metadata": {
    "slideshow": {
     "slide_type": "fragment"
    }
   },
   "outputs": [],
   "source": [
    "for record in players_dataset:\n",
    "    print(f\"{record.code} - {record.period.id} - {record.timestamp}\")"
   ]
  },
  {
   "cell_type": "code",
   "execution_count": null,
   "id": "16b76e26",
   "metadata": {
    "slideshow": {
     "slide_type": "slide"
    }
   },
   "outputs": [],
   "source": [
    "# Convert kloppy Dataset into Pandas Dataframe\n",
    "players_data = players_dataset.to_df()\n",
    "players_data"
   ]
  },
  {
   "cell_type": "markdown",
   "id": "9d9a0d80",
   "metadata": {
    "slideshow": {
     "slide_type": "slide"
    }
   },
   "source": [
    "# Lets use DuckDB"
   ]
  },
  {
   "cell_type": "code",
   "execution_count": null,
   "id": "c9c25cd4",
   "metadata": {
    "slideshow": {
     "slide_type": "subslide"
    }
   },
   "outputs": [],
   "source": [
    "# This requires DuckDB 0.7.2 (preview release)\n",
    "%pip install duckdb==0.7.2.dev1381"
   ]
  },
  {
   "cell_type": "code",
   "execution_count": null,
   "id": "654a6f13",
   "metadata": {
    "slideshow": {
     "slide_type": "subslide"
    }
   },
   "outputs": [],
   "source": [
    "import duckdb\n",
    "con = duckdb.connect()\n",
    "con"
   ]
  },
  {
   "cell_type": "code",
   "execution_count": null,
   "id": "b3da6de1",
   "metadata": {
    "slideshow": {
     "slide_type": "fragment"
    }
   },
   "outputs": [],
   "source": [
    "con.query('SELECT timestamp, code, \"Duel +\", \"Duel -\" FROM players_data WHERE \"Duel +\" OR \"Duel -\" ORDER BY period_id, timestamp LIMIT 10')"
   ]
  },
  {
   "cell_type": "code",
   "execution_count": null,
   "id": "96f27336",
   "metadata": {
    "slideshow": {
     "slide_type": "subslide"
    }
   },
   "outputs": [],
   "source": [
    "con.query(\"\"\"\n",
    "    SELECT \n",
    "        code, period_id, COUNT(\"Duel +\"), COUNT(\"Duel -\") \n",
    "    FROM players_data WHERE \"Duel +\" OR \"Duel -\" GROUP BY ALL ORDER BY code\n",
    "\n",
    "\"\"\")"
   ]
  },
  {
   "cell_type": "markdown",
   "id": "a0cd7f4f",
   "metadata": {
    "slideshow": {
     "slide_type": "slide"
    }
   },
   "source": [
    "# Some more data cleaning"
   ]
  },
  {
   "cell_type": "code",
   "execution_count": null,
   "id": "7d9319e4",
   "metadata": {
    "slideshow": {
     "slide_type": "subslide"
    }
   },
   "outputs": [],
   "source": [
    "PLAYERS = [\n",
    "    \"Gijs\", \"Jamie\", \"Sander\", \"Jelle\", \"Sheldon\", \"Phil\"\n",
    "]\n",
    "\n",
    "players_dataset = dataset.filter(lambda item: item.code in PLAYERS)\n",
    "\n",
    "def onehot_to_cat(labels, mapping):\n",
    "    for label_name, category in mapping.items():\n",
    "        if labels.get(label_name):\n",
    "            return category\n",
    "    \n",
    "def duel_encoder(record):\n",
    "    return onehot_to_cat(\n",
    "        record.labels,\n",
    "        {\n",
    "            \"Duel +\": \"won\",\n",
    "            \"Duel -\": \"lost\"\n",
    "        }\n",
    "    )\n",
    "    \n",
    "players_data_cat = players_dataset.to_df(\n",
    "    \"period_id\",\n",
    "    player=lambda record: record.code,\n",
    "    duel=duel_encoder\n",
    ")\n"
   ]
  },
  {
   "cell_type": "code",
   "execution_count": null,
   "id": "08fa859f",
   "metadata": {
    "slideshow": {
     "slide_type": "subslide"
    }
   },
   "outputs": [],
   "source": [
    "players_data_cat"
   ]
  },
  {
   "cell_type": "code",
   "execution_count": null,
   "id": "6c8df59a",
   "metadata": {
    "slideshow": {
     "slide_type": "slide"
    }
   },
   "outputs": [],
   "source": [
    "con.query(\"\"\"\n",
    "    SELECT \n",
    "        player, period_id, \n",
    "        COUNT(*) FILTER(duel = 'won') as duel_won\n",
    "    FROM players_data_cat WHERE duel IS NOT NULL GROUP BY ALL ORDER BY player\n",
    "\n",
    "\"\"\")"
   ]
  },
  {
   "cell_type": "code",
   "execution_count": null,
   "id": "689081c4",
   "metadata": {
    "slideshow": {
     "slide_type": "subslide"
    }
   },
   "outputs": [],
   "source": [
    "con.query(\"\"\"\n",
    "    SELECT\n",
    "        \n",
    "        player, period_id,\n",
    "        printf('%.1f%%', (COUNT(*) FILTER(duel='won'))::DECIMAL / COUNT(*) * 100) as won_percentage,\n",
    "    FROM players_data_cat\n",
    "    WHERE duel IN ('won', 'lost')\n",
    "    GROUP BY ALL\n",
    "\"\"\")"
   ]
  },
  {
   "cell_type": "code",
   "execution_count": null,
   "id": "947053c3",
   "metadata": {
    "slideshow": {
     "slide_type": "subslide"
    }
   },
   "outputs": [],
   "source": [
    "con.query(\"\"\"\n",
    "WITH players AS (\n",
    "    SELECT\n",
    "        code, \n",
    "        period_id,\n",
    "        printf('%.1f%%', (COUNT(*) FILTER(duel='won'))::DECIMAL / COUNT(*) * 100) as duel_percentage\n",
    "    FROM players_data_cat\n",
    "    GROUP BY ALL\n",
    "    WHERE duel IN ('won', 'lost')\n",
    ")\n",
    "PIVOT \n",
    "    players\n",
    "ON period_id\n",
    "USING FIRST(duel_percentage)\n",
    "GROUP BY code\n",
    "\"\"\")"
   ]
  },
  {
   "cell_type": "markdown",
   "id": "4dd1c271",
   "metadata": {
    "slideshow": {
     "slide_type": "slide"
    }
   },
   "source": [
    "# Read from multiple matches"
   ]
  },
  {
   "cell_type": "code",
   "execution_count": null,
   "id": "10bcf586",
   "metadata": {
    "slideshow": {
     "slide_type": "slide"
    }
   },
   "outputs": [],
   "source": [
    "import os\n",
    "\n",
    "PLAYERS = [\n",
    "    \"Gijs\", \"Jamie\", \"Sander\", \"Jelle\", \"Sheldon\", \"Phil\"\n",
    "]\n",
    "\n",
    "def onehot_to_cat(labels, mapping):\n",
    "    for label_name, category in mapping.items():\n",
    "        if labels.get(label_name):\n",
    "            return category\n",
    "\n",
    "        \n",
    "def duel_encoder(record):\n",
    "    return onehot_to_cat(\n",
    "        record.labels,\n",
    "        {\n",
    "            \"Duel +\": \"won\",\n",
    "            \"Duel -\": \"lost\"\n",
    "        }\n",
    "    )\n"
   ]
  },
  {
   "cell_type": "code",
   "execution_count": null,
   "id": "3fbc56c6",
   "metadata": {
    "slideshow": {
     "slide_type": "subslide"
    }
   },
   "outputs": [],
   "source": [
    "\n",
    "def load_file(filename):\n",
    "    dataset = sportscode.load(filename)\n",
    "\n",
    "    period = None\n",
    "    for record in dataset.records:\n",
    "        if record.code == 'Start':\n",
    "            if period:\n",
    "                # End current period\n",
    "                period.end_timestamp = record.timestamp - 0.001\n",
    "\n",
    "            period = Period(\n",
    "                id=period.id + 1 if period else 1,\n",
    "                start_timestamp=record.timestamp,\n",
    "                end_timestamp=None\n",
    "            )\n",
    "\n",
    "        if not period:\n",
    "            # Data before first 'Period marker'\n",
    "            continue\n",
    "\n",
    "        record.period = period\n",
    "        record.timestamp -= period.start_timestamp\n",
    "        \n",
    "    players_dataset = dataset.filter(lambda item: item.code in PLAYERS)\n",
    "    \n",
    "    match = os.path.basename(filename).split(\" 2\")[0]\n",
    "    \n",
    "    return players_dataset.to_df(\n",
    "        \"period_id\", \n",
    "        match=match,\n",
    "        player=lambda record: record.code,\n",
    "        duel=duel_encoder\n",
    "    )"
   ]
  },
  {
   "cell_type": "code",
   "execution_count": null,
   "id": "0eb33ff7",
   "metadata": {
    "slideshow": {
     "slide_type": "slide"
    }
   },
   "outputs": [],
   "source": [
    "import glob\n",
    "\n",
    "files = glob.glob(\"files/* 2*.xml\")\n",
    "files"
   ]
  },
  {
   "cell_type": "code",
   "execution_count": null,
   "id": "69df8fef",
   "metadata": {
    "slideshow": {
     "slide_type": "subslide"
    }
   },
   "outputs": [],
   "source": [
    "import pandas as pd\n",
    "df = pd.concat(\n",
    "    [load_file(file) for file in files]\n",
    ")\n",
    "df"
   ]
  },
  {
   "cell_type": "code",
   "execution_count": null,
   "id": "82227fdd",
   "metadata": {
    "slideshow": {
     "slide_type": "subslide"
    }
   },
   "outputs": [],
   "source": [
    "con.query(\"\"\"\n",
    "SELECT \n",
    "    match, \n",
    "    period_id, \n",
    "    COUNT(*) FILTER (duel='won') as won,\n",
    "    COUNT(*) FILTER (duel='lost') as lost\n",
    "FROM df WHERE duel IN ('won', 'lost')\n",
    "GROUP BY ALL\n",
    "ORDER BY match, period_id\n",
    "\"\"\")"
   ]
  },
  {
   "cell_type": "markdown",
   "id": "fe9adaac",
   "metadata": {
    "slideshow": {
     "slide_type": "slide"
    }
   },
   "source": [
    "# Using football event data"
   ]
  },
  {
   "cell_type": "code",
   "execution_count": null,
   "id": "9c1fbb70",
   "metadata": {
    "slideshow": {
     "slide_type": "slide"
    }
   },
   "outputs": [],
   "source": [
    "from kloppy import statsbomb\n",
    "\n",
    "dataset = statsbomb.load_open_data()\n",
    "\n",
    "df = (\n",
    "    dataset\n",
    "    .filter(\"pass\")\n",
    "    .to_df(\n",
    "        \"team\",\n",
    "        \"player\",\n",
    "        \"result\",\n",
    "    )\n",
    ")"
   ]
  },
  {
   "cell_type": "code",
   "execution_count": null,
   "id": "daf7aa12",
   "metadata": {
    "slideshow": {
     "slide_type": "subslide"
    }
   },
   "outputs": [],
   "source": [
    "df"
   ]
  },
  {
   "cell_type": "code",
   "execution_count": null,
   "id": "6cf5c93c",
   "metadata": {
    "slideshow": {
     "slide_type": "subslide"
    }
   },
   "outputs": [],
   "source": [
    "con.query(\"\"\"\n",
    "SELECT player, result, COUNT(*) FROM df GROUP BY ALL ORDER BY ALL\n",
    "\"\"\")"
   ]
  },
  {
   "cell_type": "code",
   "execution_count": null,
   "id": "9d745e2f",
   "metadata": {
    "slideshow": {
     "slide_type": "slide"
    }
   },
   "outputs": [],
   "source": [
    "con.query(\"PIVOT df ON result GROUP BY team\")"
   ]
  },
  {
   "cell_type": "code",
   "execution_count": null,
   "id": "4d2b8fc1",
   "metadata": {
    "slideshow": {
     "slide_type": "subslide"
    }
   },
   "outputs": [],
   "source": [
    "df_shot = (\n",
    "    dataset\n",
    "    .filter(\"shot\")\n",
    "    .to_df(\n",
    "        \"team\",\n",
    "        \"player\",\n",
    "        \"result\",\n",
    "    )\n",
    ")\n",
    "results = con.query(\"PIVOT df_shot ON result GROUP BY team, player\")\n",
    "results"
   ]
  },
  {
   "cell_type": "markdown",
   "id": "87b4756a",
   "metadata": {
    "slideshow": {
     "slide_type": "slide"
    }
   },
   "source": [
    "# Export to excel 😎"
   ]
  },
  {
   "cell_type": "code",
   "execution_count": null,
   "id": "d24d0f2b",
   "metadata": {
    "slideshow": {
     "slide_type": "subslide"
    }
   },
   "outputs": [],
   "source": [
    "%pip install openpyxl"
   ]
  },
  {
   "cell_type": "code",
   "execution_count": null,
   "id": "1206b8fd",
   "metadata": {
    "slideshow": {
     "slide_type": "fragment"
    }
   },
   "outputs": [],
   "source": [
    "results.df().to_excel(\"output.xlsx\", index=False)"
   ]
  },
  {
   "cell_type": "code",
   "execution_count": null,
   "id": "194ae3f4",
   "metadata": {
    "slideshow": {
     "slide_type": "fragment"
    }
   },
   "outputs": [],
   "source": [
    "import subprocess\n",
    "subprocess.call([\"open\", \".\"])"
   ]
  },
  {
   "cell_type": "markdown",
   "id": "4b9f8821",
   "metadata": {
    "slideshow": {
     "slide_type": "slide"
    }
   },
   "source": [
    "# Conclusion\n",
    "\n",
    "- kloppy can be used to read sportscode xml files\n",
    "- data cleaning/transformation can be done in a few lines of code\n",
    "- cleaned kloppy dataset can be transformed into pandas DataFrame\n",
    "- DuckDB can query pandas DataFrame directly"
   ]
  },
  {
   "cell_type": "markdown",
   "id": "2182f5e0",
   "metadata": {
    "slideshow": {
     "slide_type": "slide"
    }
   },
   "source": [
    "# Questions?"
   ]
  }
 ],
 "metadata": {
  "celltoolbar": "Slideshow",
  "kernelspec": {
   "display_name": "kloppy-venv",
   "language": "python",
   "name": "kloppy-venv"
  },
  "language_info": {
   "codemirror_mode": {
    "name": "ipython",
    "version": 3
   },
   "file_extension": ".py",
   "mimetype": "text/x-python",
   "name": "python",
   "nbconvert_exporter": "python",
   "pygments_lexer": "ipython3",
   "version": "3.10.6"
  }
 },
 "nbformat": 4,
 "nbformat_minor": 5
}
