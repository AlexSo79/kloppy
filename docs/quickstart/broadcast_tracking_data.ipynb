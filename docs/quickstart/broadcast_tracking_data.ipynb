{
 "cells": [
  {
   "cell_type": "markdown",
   "metadata": {},
   "source": [
    "# Broadcast Tracking Data\n",
    "\n",
    "Unlike tracking data from permanently installed camera systems in a stadium, broadcast tracking captures player locations directly from video feeds.  \n",
    "As these broadcast feeds usually show only part of the pitch, this tracking data contains only part of the players information for most frames and may be missing data for some frames entirely due to playbacks or close-up camera views.  \n",
    "For more information about this data please go to https://github.com/SkillCorner/opendata.\n",
    "\n",
    "A note from Skillcorner:  \n",
    "\"if you use the data, we kindly ask that you credit SkillCorner and hope you'll notify us on Twitter so we can follow the great work being done with this data.\"\n",
    "\n",
    "Available Matches in the Skillcorner Opendata Repository:  \n",
    "\n",
    "    \"ID: 4039 - Manchester City vs Liverpool on 2020-07-02\"  \n",
    "    \"ID: 3749 - Dortmund vs Bayern Munchen on 2020-05-26\"  \n",
    "    \"ID: 3518 - Juventus vs Inter on 2020-03-08\"  \n",
    "    \"ID: 3442 - Real Madrid vs FC Barcelona on 2020-03-01\"  \n",
    "    \"ID: 2841 - FC Barcelona vs Real Madrid on 2019-12-18\"  \n",
    "    \"ID: 2440 - Liverpool vs Manchester City on 2019-11-10\"  \n",
    "    \"ID: 2417 - Bayern Munchen vs Dortmund on 2019-11-09\"  \n",
    "    \"ID: 2269 - Paris vs Marseille on 2019-10-27\"  \n",
    "    \"ID: 2068 - Inter vs Juventus on 2019-10-06\"\n",
    "\n",
    "Metadata is available for this data.\n",
    "\n",
    "## Loading Skillcorner data\n"
   ]
  },
  {
   "cell_type": "code",
   "execution_count": 1,
   "metadata": {
    "scrolled": true
   },
   "outputs": [],
   "source": [
    "from kloppy.helpers import load_skillcorner_tracking_data, to_pandas\n",
    "\n",
    "# there is one example match for testing purposes in kloppy that we use here\n",
    "# for other matches change the filenames to the location of your downloaded skillcorner opendata files\n",
    "matchdata_file = '../../kloppy/tests/files/skillcorner_match_data.json'\n",
    "tracking_file = '../../kloppy/tests/files/skillcorner_structured_data.json'\n",
    "\n",
    "dataset = load_skillcorner_tracking_data(metadata_filename=matchdata_file,\n",
    "                                         raw_data_filename=tracking_file,\n",
    "                                         options={'limit': 100})\n",
    "\n",
    "df = to_pandas(dataset)"
   ]
  },
  {
   "cell_type": "markdown",
   "metadata": {},
   "source": [
    "## Exploring the data\n",
    "\n",
    "When you want to show the name of a player you are advised to use `str(player)`. This will call the magic `__str__` method that handles fallbacks for missing data. By default it will return `full_name`, and fallback to 1) `first_name last_name` 2) `player_id`."
   ]
  },
  {
   "cell_type": "code",
   "execution_count": 2,
   "metadata": {},
   "outputs": [
    {
     "output_type": "execute_result",
     "data": {
      "text/plain": [
       "['Thiago Alcantara (6)',\n",
       " 'Lukas Mai (33)',\n",
       " 'David Alaba (27)',\n",
       " 'Manuel Neuer (1)',\n",
       " 'Mickael Cuisance (11)',\n",
       " 'Corentin Tolisso (24)',\n",
       " 'Thomas Müller (25)',\n",
       " 'Joshua Kimmich (32)',\n",
       " 'Sven Ulreich (26)',\n",
       " 'Robert Lewandowski (9)',\n",
       " 'Kingsley Coman (29)',\n",
       " 'Leon Goretzka (18)',\n",
       " 'Alphonso Davies (19)',\n",
       " 'Javier Martinez (8)',\n",
       " 'Benjamin Pavard (5)',\n",
       " 'Philippe Coutinho (10)',\n",
       " 'Ivan Perisic (14)',\n",
       " 'Serge Gnabry (22)']"
      ]
     },
     "metadata": {},
     "execution_count": 2
    }
   ],
   "source": [
    "metadata = dataset.metadata\n",
    "home_team, away_team = metadata.teams\n",
    "\n",
    "[f\"{player} ({player.jersey_no})\" for player in home_team.players]\n"
   ]
  },
  {
   "cell_type": "code",
   "execution_count": 3,
   "metadata": {},
   "outputs": [
    {
     "output_type": "stream",
     "name": "stdout",
     "text": [
      "home - FC Bayern Munchen\naway - Borussia Dortmund\n"
     ]
    }
   ],
   "source": [
    "print(f\"{home_team.ground} - {home_team}\")\n",
    "print(f\"{away_team.ground} - {away_team}\")"
   ]
  },
  {
   "cell_type": "markdown",
   "metadata": {
    "collapsed": true
   },
   "source": [
    "## Working with tracking data\n",
    "\n",
    "The actual tracking data is available at `dataset.frames`. This list holds all frames. Each frame has a `players_coordinates` dictionary that is indexed by `Player` entities and has values of the `Point` type.\n",
    "\n",
    "Identities of players are not always specified. In that case only the team affiliation is known and a track_id that is part of the player_id is used to identify the same (unknown) player across multiple frames."
   ]
  },
  {
   "cell_type": "code",
   "execution_count": 4,
   "metadata": {},
   "outputs": [
    {
     "output_type": "stream",
     "name": "stdout",
     "text": [
      "Number of players in the frame: 18\nList home team players coordinates\n[('home_anon_75', Point(x=15.9360906923, y=30.0300951256)),\n ('home_22', Point(x=8.51882298787, y=33.2893384298)),\n ('home_5', Point(x=16.6541267386, y=32.0652637355)),\n ('home_29', Point(x=0.185914064004, y=-8.94425428481)),\n ('home_18', Point(x=8.890832901, y=27.364261718)),\n ('home_25', Point(x=8.58664258321, y=9.57085019066)),\n ('home_8', Point(x=25.9053270249, y=25.1040175302)),\n ('home_27', Point(x=24.3945310683, y=8.64830702827)),\n ('home_19', Point(x=21.7519543057, y=-0.501699311393)),\n ('home_32', Point(x=14.2180809293, y=25.8839437394))]\n"
     ]
    }
   ],
   "source": [
    "first_frame = dataset.frames[88]\n",
    "print(f\"Number of players in the frame: {len(first_frame.players_coordinates)}\")\n",
    "\n",
    "from pprint import pprint\n",
    "print(\"List home team players coordinates\")\n",
    "pprint([\n",
    "    (player.player_id, player_coordinates) \n",
    "    for player, player_coordinates\n",
    "    in first_frame.players_coordinates.items()\n",
    "    if player.team == home_team\n",
    "])"
   ]
  },
  {
   "cell_type": "code",
   "execution_count": 5,
   "metadata": {},
   "outputs": [
    {
     "output_type": "execute_result",
     "data": {
      "text/plain": [
       "   period_id  timestamp ball_state  ball_owning_team_id     ball_x     ball_y  \\\n",
       "0          1       11.2       None                  NaN        NaN        NaN   \n",
       "1          1       11.3       None                  NaN  30.591473  35.362228   \n",
       "2          1       11.4       None                  NaN  28.626183  34.643903   \n",
       "3          1       11.5       None                  NaN  26.735577  33.890401   \n",
       "4          1       11.6       None                  NaN  24.919653  33.101723   \n",
       "\n",
       "   away_23_x  away_23_y   home_5_x   home_5_y  ...  home_29_x  home_29_y  \\\n",
       "0  25.986308  27.301360  22.516719  31.963026  ...        NaN        NaN   \n",
       "1  25.758947  27.243045  22.329029  31.705128  ...        NaN        NaN   \n",
       "2  25.510344  27.217471  22.158890  31.556653  ...        NaN        NaN   \n",
       "3  25.240500  27.224637  22.006302  31.517601  ...        NaN        NaN   \n",
       "4  24.976887  27.428038  21.945575  31.831885  ...        NaN        NaN   \n",
       "\n",
       "   away_16_x  away_16_y  away_14_x  away_14_y  home_9_x  home_9_y  \\\n",
       "0        NaN        NaN        NaN        NaN       NaN       NaN   \n",
       "1        NaN        NaN        NaN        NaN       NaN       NaN   \n",
       "2        NaN        NaN        NaN        NaN       NaN       NaN   \n",
       "3        NaN        NaN        NaN        NaN       NaN       NaN   \n",
       "4        NaN        NaN        NaN        NaN       NaN       NaN   \n",
       "\n",
       "   home_anon_75_x  home_anon_75_y  \n",
       "0             NaN             NaN  \n",
       "1             NaN             NaN  \n",
       "2             NaN             NaN  \n",
       "3             NaN             NaN  \n",
       "4             NaN             NaN  \n",
       "\n",
       "[5 rows x 48 columns]"
      ],
      "text/html": "<div>\n<style scoped>\n    .dataframe tbody tr th:only-of-type {\n        vertical-align: middle;\n    }\n\n    .dataframe tbody tr th {\n        vertical-align: top;\n    }\n\n    .dataframe thead th {\n        text-align: right;\n    }\n</style>\n<table border=\"1\" class=\"dataframe\">\n  <thead>\n    <tr style=\"text-align: right;\">\n      <th></th>\n      <th>period_id</th>\n      <th>timestamp</th>\n      <th>ball_state</th>\n      <th>ball_owning_team_id</th>\n      <th>ball_x</th>\n      <th>ball_y</th>\n      <th>away_23_x</th>\n      <th>away_23_y</th>\n      <th>home_5_x</th>\n      <th>home_5_y</th>\n      <th>...</th>\n      <th>home_29_x</th>\n      <th>home_29_y</th>\n      <th>away_16_x</th>\n      <th>away_16_y</th>\n      <th>away_14_x</th>\n      <th>away_14_y</th>\n      <th>home_9_x</th>\n      <th>home_9_y</th>\n      <th>home_anon_75_x</th>\n      <th>home_anon_75_y</th>\n    </tr>\n  </thead>\n  <tbody>\n    <tr>\n      <th>0</th>\n      <td>1</td>\n      <td>11.2</td>\n      <td>None</td>\n      <td>NaN</td>\n      <td>NaN</td>\n      <td>NaN</td>\n      <td>25.986308</td>\n      <td>27.301360</td>\n      <td>22.516719</td>\n      <td>31.963026</td>\n      <td>...</td>\n      <td>NaN</td>\n      <td>NaN</td>\n      <td>NaN</td>\n      <td>NaN</td>\n      <td>NaN</td>\n      <td>NaN</td>\n      <td>NaN</td>\n      <td>NaN</td>\n      <td>NaN</td>\n      <td>NaN</td>\n    </tr>\n    <tr>\n      <th>1</th>\n      <td>1</td>\n      <td>11.3</td>\n      <td>None</td>\n      <td>NaN</td>\n      <td>30.591473</td>\n      <td>35.362228</td>\n      <td>25.758947</td>\n      <td>27.243045</td>\n      <td>22.329029</td>\n      <td>31.705128</td>\n      <td>...</td>\n      <td>NaN</td>\n      <td>NaN</td>\n      <td>NaN</td>\n      <td>NaN</td>\n      <td>NaN</td>\n      <td>NaN</td>\n      <td>NaN</td>\n      <td>NaN</td>\n      <td>NaN</td>\n      <td>NaN</td>\n    </tr>\n    <tr>\n      <th>2</th>\n      <td>1</td>\n      <td>11.4</td>\n      <td>None</td>\n      <td>NaN</td>\n      <td>28.626183</td>\n      <td>34.643903</td>\n      <td>25.510344</td>\n      <td>27.217471</td>\n      <td>22.158890</td>\n      <td>31.556653</td>\n      <td>...</td>\n      <td>NaN</td>\n      <td>NaN</td>\n      <td>NaN</td>\n      <td>NaN</td>\n      <td>NaN</td>\n      <td>NaN</td>\n      <td>NaN</td>\n      <td>NaN</td>\n      <td>NaN</td>\n      <td>NaN</td>\n    </tr>\n    <tr>\n      <th>3</th>\n      <td>1</td>\n      <td>11.5</td>\n      <td>None</td>\n      <td>NaN</td>\n      <td>26.735577</td>\n      <td>33.890401</td>\n      <td>25.240500</td>\n      <td>27.224637</td>\n      <td>22.006302</td>\n      <td>31.517601</td>\n      <td>...</td>\n      <td>NaN</td>\n      <td>NaN</td>\n      <td>NaN</td>\n      <td>NaN</td>\n      <td>NaN</td>\n      <td>NaN</td>\n      <td>NaN</td>\n      <td>NaN</td>\n      <td>NaN</td>\n      <td>NaN</td>\n    </tr>\n    <tr>\n      <th>4</th>\n      <td>1</td>\n      <td>11.6</td>\n      <td>None</td>\n      <td>NaN</td>\n      <td>24.919653</td>\n      <td>33.101723</td>\n      <td>24.976887</td>\n      <td>27.428038</td>\n      <td>21.945575</td>\n      <td>31.831885</td>\n      <td>...</td>\n      <td>NaN</td>\n      <td>NaN</td>\n      <td>NaN</td>\n      <td>NaN</td>\n      <td>NaN</td>\n      <td>NaN</td>\n      <td>NaN</td>\n      <td>NaN</td>\n      <td>NaN</td>\n      <td>NaN</td>\n    </tr>\n  </tbody>\n</table>\n<p>5 rows × 48 columns</p>\n</div>"
     },
     "metadata": {},
     "execution_count": 5
    }
   ],
   "source": [
    "df.head()"
   ]
  },
  {
   "cell_type": "code",
   "execution_count": null,
   "metadata": {},
   "outputs": [],
   "source": []
  }
 ],
 "metadata": {
  "kernelspec": {
   "name": "python385jvsc74a57bd030bbe92a729b11a0370da5d211f81c45283003e3817d4f6dd485b27b18895714",
   "display_name": "Python 3.8.5 64-bit ('base': conda)"
  },
  "language_info": {
   "codemirror_mode": {
    "name": "ipython",
    "version": 3
   },
   "file_extension": ".py",
   "mimetype": "text/x-python",
   "name": "python",
   "nbconvert_exporter": "python",
   "pygments_lexer": "ipython3",
   "version": "3.8.5"
  },
  "toc": {
   "base_numbering": 1,
   "nav_menu": {},
   "number_sections": true,
   "sideBar": true,
   "skip_h1_title": false,
   "title_cell": "Table of Contents",
   "title_sidebar": "Contents",
   "toc_cell": false,
   "toc_position": {},
   "toc_section_display": true,
   "toc_window_display": false
  }
 },
 "nbformat": 4,
 "nbformat_minor": 4
}