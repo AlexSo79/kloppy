{
 "cells": [
  {
   "cell_type": "markdown",
   "id": "0d9c4f41",
   "metadata": {},
   "source": [
    "## Load Match from Statsbomb"
   ]
  },
  {
   "cell_type": "code",
   "execution_count": null,
   "id": "0ddff47e",
   "metadata": {},
   "outputs": [
    {
     "name": "stderr",
     "output_type": "stream",
     "text": [
      "c:\\Users\\aless\\Documents\\GitHub\\kloppy\\kloppy\\_providers\\statsbomb.py:83: UserWarning: \n",
      "\n",
      "You are about to use StatsBomb public data.\n",
      "By using this data, you are agreeing to the user agreement. \n",
      "The user agreement can be found here: https://github.com/statsbomb/open-data/blob/master/LICENSE.pdf\n",
      "\n",
      "  warnings.warn(\n"
     ]
    }
   ],
   "source": [
    "from kloppy import statsbomb\n",
    "import polars as pl\n",
    "\n",
    "dataset = statsbomb.load_open_data(\n",
    "    match_id=15946,\n",
    "    coordinates=\"statsbomb\"\n",
    ")"
   ]
  },
  {
   "cell_type": "markdown",
   "id": "366eaf37",
   "metadata": {},
   "source": [
    "## Extract Minutes Played"
   ]
  },
  {
   "cell_type": "code",
   "execution_count": 6,
   "id": "18006798",
   "metadata": {},
   "outputs": [
    {
     "name": "stdout",
     "output_type": "stream",
     "text": [
      "Philippe Coutinho Correia - 47.5 minutes_played\n",
      "Sergio Busquets i Burgos - 84.3 minutes_played\n",
      "Jordi Alba Ramos - 92.6 minutes_played\n",
      "Gerard Piqué Bernabéu - 92.6 minutes_played\n",
      "Luis Alberto Suárez Díaz - 92.6 minutes_played\n",
      "Ivan Rakitić - 92.6 minutes_played\n",
      "Ousmane Dembélé - 76.3 minutes_played\n",
      "Samuel Yves Umtiti - 92.6 minutes_played\n",
      "Lionel Andrés Messi Cuccittini - 92.6 minutes_played\n",
      "Nélson Cabral Semedo - 45.1 minutes_played\n",
      "Sergi Roberto Carnicer - 92.6 minutes_played\n",
      "Arturo Erasmo Vidal Pardo - 8.3 minutes_played\n",
      "Arthur Henrique Ramos de Oliveira Melo - 16.3 minutes_played\n",
      "Marc-André ter Stegen - 92.6 minutes_played\n",
      "Borja González Tomás - 24.6 minutes_played\n",
      "Jonathan Rodríguez Menéndez - 68.0 minutes_played\n",
      "Rubén Duarte Sánchez - 92.6 minutes_played\n",
      "Rubén Sobrino Pozuelo - 70.6 minutes_played\n",
      "Víctor Laguardia Cisneros - 92.6 minutes_played\n",
      "Ibai Gómez Pérez - 92.6 minutes_played\n",
      "Martín Aguirregabiria Padilla - 92.6 minutes_played\n",
      "Jorge Franco Alviz - 22.0 minutes_played\n",
      "Mubarak Wakaso - 92.6 minutes_played\n",
      "Fernando Pacheco Flores - 92.6 minutes_played\n",
      "Manuel Alejandro García Sánchez - 92.6 minutes_played\n",
      "Daniel Alejandro Torres Rojas - 67.9 minutes_played\n",
      "Guillermo Alfonso Maripán Loaysa - 92.6 minutes_played\n",
      "Adrián Marín Gómez - 24.7 minutes_played\n"
     ]
    }
   ],
   "source": [
    "mins_played = dataset.aggregate(\"minutes_played\")\n",
    "\n",
    "for item in mins_played:\n",
    "    print(f\"{item.player} - {item.duration.total_seconds() / 60:.1f} minutes_played\")"
   ]
  },
  {
   "cell_type": "markdown",
   "id": "fc2d52ea",
   "metadata": {},
   "source": [
    "## Compute Passes per 90 Minutes\n",
    "Filter passes off the datasets and convert to Polars dataframe. Calculate minutes played by each player"
   ]
  },
  {
   "cell_type": "code",
   "execution_count": 9,
   "id": "bc649fdb",
   "metadata": {},
   "outputs": [],
   "source": [
    "passes_polars = dataset.filter(\"Pass\").to_df(\n",
    "    \"player_id\",\n",
    "    lambda event: {\n",
    "        \"player_name\": str(event.player),\n",
    "        \"successful_passes\": event.result.is_success if event.result is not None else None\n",
    "    },\n",
    "    engine=\"polars\"\n",
    ")\n",
    "\n",
    "\n",
    "mins_played_pl = pl.DataFrame(\n",
    "    [\n",
    "        {\n",
    "            \"player_id\": item.player.player_id,\n",
    "            \"minutes_played\": item.duration.total_seconds() / 60\n",
    "        }\n",
    "        for item in mins_played\n",
    "    ]\n",
    ")"
   ]
  },
  {
   "cell_type": "markdown",
   "id": "53794c2c",
   "metadata": {},
   "source": [
    "Now, to calculate the p90 metrics:\n",
    "\n",
    "- Group by player_id and player_name to aggregate pass statistics.\n",
    "- Compute successful passes and total passes.\n",
    "- Join with mins_played_pl to include minutes played.\n",
    "- Calculate Per 90 Metrics:\n",
    "    - success_p90: Successful passes per 90 minutes.\n",
    "    - total_p90: Total passes per 90 minutes."
   ]
  },
  {
   "cell_type": "code",
   "execution_count": 11,
   "id": "512e7980",
   "metadata": {},
   "outputs": [
    {
     "data": {
      "text/html": [
       "<div><style>\n",
       ".dataframe > thead > tr,\n",
       ".dataframe > tbody > tr {\n",
       "  text-align: right;\n",
       "  white-space: pre-wrap;\n",
       "}\n",
       "</style>\n",
       "<small>shape: (28, 7)</small><table border=\"1\" class=\"dataframe\"><thead><tr><th>player_id</th><th>player_name</th><th>successful_passes</th><th>total_passes</th><th>minutes_played</th><th>success_p90</th><th>total_p90</th></tr><tr><td>str</td><td>str</td><td>u32</td><td>u32</td><td>f64</td><td>f64</td><td>f64</td></tr></thead><tbody><tr><td>&quot;3501&quot;</td><td>&quot;Philippe Coutinho Correia&quot;</td><td>46</td><td>52</td><td>47.517683</td><td>87.12546</td><td>98.48965</td></tr><tr><td>&quot;5203&quot;</td><td>&quot;Sergio Busquets i Burgos&quot;</td><td>77</td><td>83</td><td>84.319283</td><td>82.187606</td><td>88.591835</td></tr><tr><td>&quot;5211&quot;</td><td>&quot;Jordi Alba Ramos&quot;</td><td>117</td><td>128</td><td>92.618717</td><td>113.691923</td><td>124.380907</td></tr><tr><td>&quot;5213&quot;</td><td>&quot;Gerard Piqué Bernabéu&quot;</td><td>76</td><td>81</td><td>92.618717</td><td>73.851164</td><td>78.709793</td></tr><tr><td>&quot;5246&quot;</td><td>&quot;Luis Alberto Suárez Díaz&quot;</td><td>28</td><td>39</td><td>92.618717</td><td>27.208323</td><td>37.897308</td></tr><tr><td>&hellip;</td><td>&hellip;</td><td>&hellip;</td><td>&hellip;</td><td>&hellip;</td><td>&hellip;</td><td>&hellip;</td></tr><tr><td>&quot;6629&quot;</td><td>&quot;Fernando Pacheco Flores&quot;</td><td>12</td><td>25</td><td>92.618717</td><td>11.66071</td><td>24.293146</td></tr><tr><td>&quot;6632&quot;</td><td>&quot;Manuel Alejandro García Sánche…</td><td>16</td><td>20</td><td>92.618717</td><td>15.547613</td><td>19.434517</td></tr><tr><td>&quot;6839&quot;</td><td>&quot;Daniel Alejandro Torres Rojas&quot;</td><td>12</td><td>16</td><td>67.909867</td><td>15.903433</td><td>21.204577</td></tr><tr><td>&quot;6855&quot;</td><td>&quot;Guillermo Alfonso Maripán Loay…</td><td>11</td><td>16</td><td>92.618717</td><td>10.688984</td><td>15.547613</td></tr><tr><td>&quot;6935&quot;</td><td>&quot;Adrián Marín Gómez&quot;</td><td>5</td><td>7</td><td>24.70885</td><td>18.212098</td><td>25.496937</td></tr></tbody></table></div>"
      ],
      "text/plain": [
       "shape: (28, 7)\n",
       "┌───────────┬──────────────┬──────────────┬──────────────┬──────────────┬─────────────┬────────────┐\n",
       "│ player_id ┆ player_name  ┆ successful_p ┆ total_passes ┆ minutes_play ┆ success_p90 ┆ total_p90  │\n",
       "│ ---       ┆ ---          ┆ asses        ┆ ---          ┆ ed           ┆ ---         ┆ ---        │\n",
       "│ str       ┆ str          ┆ ---          ┆ u32          ┆ ---          ┆ f64         ┆ f64        │\n",
       "│           ┆              ┆ u32          ┆              ┆ f64          ┆             ┆            │\n",
       "╞═══════════╪══════════════╪══════════════╪══════════════╪══════════════╪═════════════╪════════════╡\n",
       "│ 3501      ┆ Philippe     ┆ 46           ┆ 52           ┆ 47.517683    ┆ 87.12546    ┆ 98.48965   │\n",
       "│           ┆ Coutinho     ┆              ┆              ┆              ┆             ┆            │\n",
       "│           ┆ Correia      ┆              ┆              ┆              ┆             ┆            │\n",
       "│ 5203      ┆ Sergio       ┆ 77           ┆ 83           ┆ 84.319283    ┆ 82.187606   ┆ 88.591835  │\n",
       "│           ┆ Busquets i   ┆              ┆              ┆              ┆             ┆            │\n",
       "│           ┆ Burgos       ┆              ┆              ┆              ┆             ┆            │\n",
       "│ 5211      ┆ Jordi Alba   ┆ 117          ┆ 128          ┆ 92.618717    ┆ 113.691923  ┆ 124.380907 │\n",
       "│           ┆ Ramos        ┆              ┆              ┆              ┆             ┆            │\n",
       "│ 5213      ┆ Gerard Piqué ┆ 76           ┆ 81           ┆ 92.618717    ┆ 73.851164   ┆ 78.709793  │\n",
       "│           ┆ Bernabéu     ┆              ┆              ┆              ┆             ┆            │\n",
       "│ 5246      ┆ Luis Alberto ┆ 28           ┆ 39           ┆ 92.618717    ┆ 27.208323   ┆ 37.897308  │\n",
       "│           ┆ Suárez Díaz  ┆              ┆              ┆              ┆             ┆            │\n",
       "│ …         ┆ …            ┆ …            ┆ …            ┆ …            ┆ …           ┆ …          │\n",
       "│ 6629      ┆ Fernando     ┆ 12           ┆ 25           ┆ 92.618717    ┆ 11.66071    ┆ 24.293146  │\n",
       "│           ┆ Pacheco      ┆              ┆              ┆              ┆             ┆            │\n",
       "│           ┆ Flores       ┆              ┆              ┆              ┆             ┆            │\n",
       "│ 6632      ┆ Manuel       ┆ 16           ┆ 20           ┆ 92.618717    ┆ 15.547613   ┆ 19.434517  │\n",
       "│           ┆ Alejandro    ┆              ┆              ┆              ┆             ┆            │\n",
       "│           ┆ García       ┆              ┆              ┆              ┆             ┆            │\n",
       "│           ┆ Sánche…      ┆              ┆              ┆              ┆             ┆            │\n",
       "│ 6839      ┆ Daniel       ┆ 12           ┆ 16           ┆ 67.909867    ┆ 15.903433   ┆ 21.204577  │\n",
       "│           ┆ Alejandro    ┆              ┆              ┆              ┆             ┆            │\n",
       "│           ┆ Torres Rojas ┆              ┆              ┆              ┆             ┆            │\n",
       "│ 6855      ┆ Guillermo    ┆ 11           ┆ 16           ┆ 92.618717    ┆ 10.688984   ┆ 15.547613  │\n",
       "│           ┆ Alfonso      ┆              ┆              ┆              ┆             ┆            │\n",
       "│           ┆ Maripán      ┆              ┆              ┆              ┆             ┆            │\n",
       "│           ┆ Loay…        ┆              ┆              ┆              ┆             ┆            │\n",
       "│ 6935      ┆ Adrián Marín ┆ 5            ┆ 7            ┆ 24.70885     ┆ 18.212098   ┆ 25.496937  │\n",
       "│           ┆ Gómez        ┆              ┆              ┆              ┆             ┆            │\n",
       "└───────────┴──────────────┴──────────────┴──────────────┴──────────────┴─────────────┴────────────┘"
      ]
     },
     "execution_count": 11,
     "metadata": {},
     "output_type": "execute_result"
    }
   ],
   "source": [
    "passes_p90 = (\n",
    "    passes_polars.group_by([\"player_id\", \"player_name\"])\n",
    "    .agg(successful_passes=pl.col(\"successful_passes\").sum(),total_passes=pl.col(\"successful_passes\").count())\n",
    "    .join(mins_played_pl, on=\"player_id\")\n",
    "    .with_columns(\n",
    "        success_p90=(pl.col(\"successful_passes\") / pl.col(\"minutes_played\")) * 90,\n",
    "        total_p90=(pl.col(\"total_passes\") / pl.col(\"minutes_played\")) * 90\n",
    "    )\n",
    ")\n",
    "\n",
    "passes_p90"
   ]
  }
 ],
 "metadata": {
  "kernelspec": {
   "display_name": "kloppy",
   "language": "python",
   "name": "python3"
  },
  "language_info": {
   "codemirror_mode": {
    "name": "ipython",
    "version": 3
   },
   "file_extension": ".py",
   "mimetype": "text/x-python",
   "name": "python",
   "nbconvert_exporter": "python",
   "pygments_lexer": "ipython3",
   "version": "3.11.9"
  }
 },
 "nbformat": 4,
 "nbformat_minor": 5
}
